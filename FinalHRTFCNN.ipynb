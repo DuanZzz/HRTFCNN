{
  "nbformat": 4,
  "nbformat_minor": 0,
  "metadata": {
    "colab": {
      "name": "FinalHRTFCNN.ipynb",
      "version": "0.3.2",
      "provenance": [],
      "collapsed_sections": [
        "raR-9dV9gZEQ"
      ]
    },
    "kernelspec": {
      "name": "python3",
      "display_name": "Python 3"
    },
    "accelerator": "TPU"
  },
  "cells": [
    {
      "metadata": {
        "id": "raR-9dV9gZEQ",
        "colab_type": "text"
      },
      "cell_type": "markdown",
      "source": [
        "## Download Files"
      ]
    },
    {
      "metadata": {
        "id": "RMMgdv9gdzzY",
        "colab_type": "code",
        "colab": {
          "base_uri": "https://localhost:8080/",
          "height": 51
        },
        "outputId": "0bee59de-8344-478b-88f9-91f812c6dd37"
      },
      "cell_type": "code",
      "source": [
        "!rm -rf HRTFCNN\n",
        "!rm -rf data/cipic_hrtf_sofa\n",
        "!rm ear.zip\n",
        "!rm pinnas.zip\n",
        "!rm -rf binural-updates\n",
        "!rm -rf CIPIC_hrtf_database"
      ],
      "execution_count": 1,
      "outputs": [
        {
          "output_type": "stream",
          "text": [
            "rm: cannot remove 'ear.zip': No such file or directory\n",
            "rm: cannot remove 'pinnas.zip': No such file or directory\n"
          ],
          "name": "stdout"
        }
      ]
    },
    {
      "metadata": {
        "id": "bAid5tqDdx8E",
        "colab_type": "code",
        "colab": {
          "base_uri": "https://localhost:8080/",
          "height": 68
        },
        "outputId": "bb78b967-b654-43de-da2e-80257a90f06d"
      },
      "cell_type": "code",
      "source": [
        "!pip install h5py"
      ],
      "execution_count": 2,
      "outputs": [
        {
          "output_type": "stream",
          "text": [
            "Requirement already satisfied: h5py in /usr/local/lib/python3.6/dist-packages (2.8.0)\n",
            "Requirement already satisfied: six in /usr/local/lib/python3.6/dist-packages (from h5py) (1.11.0)\n",
            "Requirement already satisfied: numpy>=1.7 in /usr/local/lib/python3.6/dist-packages (from h5py) (1.14.6)\n"
          ],
          "name": "stdout"
        }
      ]
    },
    {
      "metadata": {
        "id": "giq5EZZmf7XA",
        "colab_type": "code",
        "colab": {
          "base_uri": "https://localhost:8080/",
          "height": 34
        },
        "outputId": "804e34f5-f6f7-47a0-930e-2f9073d5088a"
      },
      "cell_type": "code",
      "source": [
        "%cd /content/"
      ],
      "execution_count": 3,
      "outputs": [
        {
          "output_type": "stream",
          "text": [
            "/content\n"
          ],
          "name": "stdout"
        }
      ]
    },
    {
      "metadata": {
        "id": "HjglBcrFa5ck",
        "colab_type": "code",
        "colab": {
          "base_uri": "https://localhost:8080/",
          "height": 119
        },
        "outputId": "a4aa7579-e5c4-4a97-933a-ddc63054894b"
      },
      "cell_type": "code",
      "source": [
        "!git clone https://github.com/codyjhsieh/HRTFCNN.git"
      ],
      "execution_count": 4,
      "outputs": [
        {
          "output_type": "stream",
          "text": [
            "Cloning into 'HRTFCNN'...\n",
            "remote: Enumerating objects: 22, done.\u001b[K\n",
            "remote: Counting objects:   4% (1/22)   \u001b[K\rremote: Counting objects:   9% (2/22)   \u001b[K\rremote: Counting objects:  13% (3/22)   \u001b[K\rremote: Counting objects:  18% (4/22)   \u001b[K\rremote: Counting objects:  22% (5/22)   \u001b[K\rremote: Counting objects:  27% (6/22)   \u001b[K\rremote: Counting objects:  31% (7/22)   \u001b[K\rremote: Counting objects:  36% (8/22)   \u001b[K\rremote: Counting objects:  40% (9/22)   \u001b[K\rremote: Counting objects:  45% (10/22)   \u001b[K\rremote: Counting objects:  50% (11/22)   \u001b[K\rremote: Counting objects:  54% (12/22)   \u001b[K\rremote: Counting objects:  59% (13/22)   \u001b[K\rremote: Counting objects:  63% (14/22)   \u001b[K\rremote: Counting objects:  68% (15/22)   \u001b[K\rremote: Counting objects:  72% (16/22)   \u001b[K\rremote: Counting objects:  77% (17/22)   \u001b[K\rremote: Counting objects:  81% (18/22)   \u001b[K\rremote: Counting objects:  86% (19/22)   \u001b[K\rremote: Counting objects:  90% (20/22)   \u001b[K\rremote: Counting objects:  95% (21/22)   \u001b[K\rremote: Counting objects: 100% (22/22)   \u001b[K\rremote: Counting objects: 100% (22/22), done.\u001b[K\n",
            "remote: Compressing objects: 100% (17/17), done.\u001b[K\n",
            "remote: Total 22 (delta 4), reused 17 (delta 3), pack-reused 0\u001b[K\n",
            "Unpacking objects: 100% (22/22), done.\n"
          ],
          "name": "stdout"
        }
      ]
    },
    {
      "metadata": {
        "id": "dToI3YW4eJJn",
        "colab_type": "code",
        "colab": {
          "base_uri": "https://localhost:8080/",
          "height": 34
        },
        "outputId": "1b796b6a-c714-4bf0-f074-747a8f1179a8"
      },
      "cell_type": "code",
      "source": [
        "%cd HRTFCNN"
      ],
      "execution_count": 5,
      "outputs": [
        {
          "output_type": "stream",
          "text": [
            "/content/HRTFCNN\n"
          ],
          "name": "stdout"
        }
      ]
    },
    {
      "metadata": {
        "id": "sYjo1Ia5f3Nq",
        "colab_type": "code",
        "colab": {
          "base_uri": "https://localhost:8080/",
          "height": 68
        },
        "outputId": "c952a690-0fa9-40d3-cdc0-ecb3b4e9f6af"
      },
      "cell_type": "code",
      "source": [
        "!git pull origin master"
      ],
      "execution_count": 6,
      "outputs": [
        {
          "output_type": "stream",
          "text": [
            "From https://github.com/codyjhsieh/HRTFCNN\n",
            " * branch            master     -> FETCH_HEAD\n",
            "Already up to date.\n"
          ],
          "name": "stdout"
        }
      ]
    },
    {
      "metadata": {
        "id": "FeC9fV-xeZE9",
        "colab_type": "code",
        "colab": {
          "base_uri": "https://localhost:8080/",
          "height": 51
        },
        "outputId": "78869acc-e70f-47c3-e690-db0a3a8e6663"
      },
      "cell_type": "code",
      "source": [
        "!ls"
      ],
      "execution_count": 7,
      "outputs": [
        {
          "output_type": "stream",
          "text": [
            "AnthropomorphicFeatures.ipynb  LICENSE\t  requirements.txt\n",
            "data\t\t\t       README.md  utils\n"
          ],
          "name": "stdout"
        }
      ]
    },
    {
      "metadata": {
        "id": "MrjM8-Lmdt7C",
        "colab_type": "code",
        "colab": {
          "base_uri": "https://localhost:8080/",
          "height": 8772
        },
        "outputId": "e73e9ffe-2e83-4f7a-c503-4c5b2ea669e3"
      },
      "cell_type": "code",
      "source": [
        "!wget -r -l1 -w 1 --no-parent http://sofacoustics.org/data/database/cipic/"
      ],
      "execution_count": 8,
      "outputs": [
        {
          "output_type": "stream",
          "text": [
            "--2018-12-14 14:53:42--  http://sofacoustics.org/data/database/cipic/\n",
            "Resolving sofacoustics.org (sofacoustics.org)... 193.171.195.16\n",
            "Connecting to sofacoustics.org (sofacoustics.org)|193.171.195.16|:80... connected.\n",
            "HTTP request sent, awaiting response... 200 OK\n",
            "Length: unspecified [text/html]\n",
            "Saving to: ‘sofacoustics.org/data/database/cipic/index.html’\n",
            "\n",
            "sofacoustics.org/da     [ <=>                ]  10.13K  --.-KB/s    in 0.002s  \n",
            "\n",
            "2018-12-14 14:53:42 (5.07 MB/s) - ‘sofacoustics.org/data/database/cipic/index.html’ saved [10370]\n",
            "\n",
            "Loading robots.txt; please ignore errors.\n",
            "--2018-12-14 14:53:43--  http://sofacoustics.org/robots.txt\n",
            "Reusing existing connection to sofacoustics.org:80.\n",
            "HTTP request sent, awaiting response... 200 OK\n",
            "Length: 318 [text/plain]\n",
            "Saving to: ‘sofacoustics.org/robots.txt’\n",
            "\n",
            "sofacoustics.org/ro 100%[===================>]     318  --.-KB/s    in 0s      \n",
            "\n",
            "2018-12-14 14:53:43 (37.8 MB/s) - ‘sofacoustics.org/robots.txt’ saved [318/318]\n",
            "\n",
            "--2018-12-14 14:53:44--  http://sofacoustics.org/data/database/cipic/?C=N;O=D\n",
            "Reusing existing connection to sofacoustics.org:80.\n",
            "HTTP request sent, awaiting response... 200 OK\n",
            "Length: unspecified [text/html]\n",
            "Saving to: ‘sofacoustics.org/data/database/cipic/index.html?C=N;O=D’\n",
            "\n",
            "sofacoustics.org/da     [ <=>                ]  10.13K  --.-KB/s    in 0.1s    \n",
            "\n",
            "2018-12-14 14:53:45 (81.0 KB/s) - ‘sofacoustics.org/data/database/cipic/index.html?C=N;O=D’ saved [10370]\n",
            "\n",
            "--2018-12-14 14:53:46--  http://sofacoustics.org/data/database/cipic/?C=M;O=A\n",
            "Reusing existing connection to sofacoustics.org:80.\n",
            "HTTP request sent, awaiting response... 200 OK\n",
            "Length: unspecified [text/html]\n",
            "Saving to: ‘sofacoustics.org/data/database/cipic/index.html?C=M;O=A’\n",
            "\n",
            "sofacoustics.org/da     [ <=>                ]  10.13K  --.-KB/s    in 0.002s  \n",
            "\n",
            "2018-12-14 14:53:46 (5.28 MB/s) - ‘sofacoustics.org/data/database/cipic/index.html?C=M;O=A’ saved [10370]\n",
            "\n",
            "--2018-12-14 14:53:47--  http://sofacoustics.org/data/database/cipic/?C=S;O=A\n",
            "Reusing existing connection to sofacoustics.org:80.\n",
            "HTTP request sent, awaiting response... 200 OK\n",
            "Length: unspecified [text/html]\n",
            "Saving to: ‘sofacoustics.org/data/database/cipic/index.html?C=S;O=A’\n",
            "\n",
            "sofacoustics.org/da     [ <=>                ]  10.13K  --.-KB/s    in 0.003s  \n",
            "\n",
            "2018-12-14 14:53:47 (3.70 MB/s) - ‘sofacoustics.org/data/database/cipic/index.html?C=S;O=A’ saved [10370]\n",
            "\n",
            "--2018-12-14 14:53:48--  http://sofacoustics.org/data/database/cipic/?C=D;O=A\n",
            "Reusing existing connection to sofacoustics.org:80.\n",
            "HTTP request sent, awaiting response... 200 OK\n",
            "Length: unspecified [text/html]\n",
            "Saving to: ‘sofacoustics.org/data/database/cipic/index.html?C=D;O=A’\n",
            "\n",
            "sofacoustics.org/da     [ <=>                ]  10.13K  --.-KB/s    in 0.003s  \n",
            "\n",
            "2018-12-14 14:53:48 (3.41 MB/s) - ‘sofacoustics.org/data/database/cipic/index.html?C=D;O=A’ saved [10370]\n",
            "\n",
            "--2018-12-14 14:53:49--  http://sofacoustics.org/data/database/cipic/subject_003.sofa\n",
            "Reusing existing connection to sofacoustics.org:80.\n",
            "HTTP request sent, awaiting response... 200 OK\n",
            "Length: 1835271 (1.8M)\n",
            "Saving to: ‘sofacoustics.org/data/database/cipic/subject_003.sofa’\n",
            "\n",
            "sofacoustics.org/da 100%[===================>]   1.75M   349KB/s    in 6.9s    \n",
            "\n",
            "2018-12-14 14:53:56 (260 KB/s) - ‘sofacoustics.org/data/database/cipic/subject_003.sofa’ saved [1835271/1835271]\n",
            "\n",
            "--2018-12-14 14:53:57--  http://sofacoustics.org/data/database/cipic/subject_008.sofa\n",
            "Reusing existing connection to sofacoustics.org:80.\n",
            "HTTP request sent, awaiting response... 200 OK\n",
            "Length: 1841309 (1.8M)\n",
            "Saving to: ‘sofacoustics.org/data/database/cipic/subject_008.sofa’\n",
            "\n",
            "sofacoustics.org/da 100%[===================>]   1.76M   899KB/s    in 2.0s    \n",
            "\n",
            "2018-12-14 14:54:00 (899 KB/s) - ‘sofacoustics.org/data/database/cipic/subject_008.sofa’ saved [1841309/1841309]\n",
            "\n",
            "--2018-12-14 14:54:01--  http://sofacoustics.org/data/database/cipic/subject_009.sofa\n",
            "Reusing existing connection to sofacoustics.org:80.\n",
            "HTTP request sent, awaiting response... 200 OK\n",
            "Length: 1841011 (1.8M)\n",
            "Saving to: ‘sofacoustics.org/data/database/cipic/subject_009.sofa’\n",
            "\n",
            "sofacoustics.org/da 100%[===================>]   1.75M  1.41MB/s    in 1.2s    \n",
            "\n",
            "2018-12-14 14:54:02 (1.41 MB/s) - ‘sofacoustics.org/data/database/cipic/subject_009.sofa’ saved [1841011/1841011]\n",
            "\n",
            "--2018-12-14 14:54:03--  http://sofacoustics.org/data/database/cipic/subject_010.sofa\n",
            "Reusing existing connection to sofacoustics.org:80.\n",
            "HTTP request sent, awaiting response... 200 OK\n",
            "Length: 1855793 (1.8M)\n",
            "Saving to: ‘sofacoustics.org/data/database/cipic/subject_010.sofa’\n",
            "\n",
            "sofacoustics.org/da 100%[===================>]   1.77M  1.43MB/s    in 1.2s    \n",
            "\n",
            "2018-12-14 14:54:04 (1.43 MB/s) - ‘sofacoustics.org/data/database/cipic/subject_010.sofa’ saved [1855793/1855793]\n",
            "\n",
            "--2018-12-14 14:54:05--  http://sofacoustics.org/data/database/cipic/subject_011.sofa\n",
            "Reusing existing connection to sofacoustics.org:80.\n",
            "HTTP request sent, awaiting response... 200 OK\n",
            "Length: 1842010 (1.8M)\n",
            "Saving to: ‘sofacoustics.org/data/database/cipic/subject_011.sofa’\n",
            "\n",
            "sofacoustics.org/da 100%[===================>]   1.76M  1.56MB/s    in 1.1s    \n",
            "\n",
            "2018-12-14 14:54:07 (1.56 MB/s) - ‘sofacoustics.org/data/database/cipic/subject_011.sofa’ saved [1842010/1842010]\n",
            "\n",
            "--2018-12-14 14:54:08--  http://sofacoustics.org/data/database/cipic/subject_012.sofa\n",
            "Reusing existing connection to sofacoustics.org:80.\n",
            "HTTP request sent, awaiting response... 200 OK\n",
            "Length: 1858630 (1.8M)\n",
            "Saving to: ‘sofacoustics.org/data/database/cipic/subject_012.sofa’\n",
            "\n",
            "sofacoustics.org/da 100%[===================>]   1.77M  1.51MB/s    in 1.2s    \n",
            "\n",
            "2018-12-14 14:54:09 (1.51 MB/s) - ‘sofacoustics.org/data/database/cipic/subject_012.sofa’ saved [1858630/1858630]\n",
            "\n",
            "--2018-12-14 14:54:10--  http://sofacoustics.org/data/database/cipic/subject_015.sofa\n",
            "Reusing existing connection to sofacoustics.org:80.\n",
            "HTTP request sent, awaiting response... 200 OK\n",
            "Length: 1849910 (1.8M)\n",
            "Saving to: ‘sofacoustics.org/data/database/cipic/subject_015.sofa’\n",
            "\n",
            "sofacoustics.org/da 100%[===================>]   1.76M   896KB/s    in 2.0s    \n",
            "\n",
            "2018-12-14 14:54:12 (896 KB/s) - ‘sofacoustics.org/data/database/cipic/subject_015.sofa’ saved [1849910/1849910]\n",
            "\n",
            "--2018-12-14 14:54:13--  http://sofacoustics.org/data/database/cipic/subject_017.sofa\n",
            "Reusing existing connection to sofacoustics.org:80.\n",
            "HTTP request sent, awaiting response... 200 OK\n",
            "Length: 1834523 (1.7M)\n",
            "Saving to: ‘sofacoustics.org/data/database/cipic/subject_017.sofa’\n",
            "\n",
            "sofacoustics.org/da 100%[===================>]   1.75M   904KB/s    in 2.0s    \n",
            "\n",
            "2018-12-14 14:54:15 (904 KB/s) - ‘sofacoustics.org/data/database/cipic/subject_017.sofa’ saved [1834523/1834523]\n",
            "\n",
            "--2018-12-14 14:54:16--  http://sofacoustics.org/data/database/cipic/subject_018.sofa\n",
            "Reusing existing connection to sofacoustics.org:80.\n",
            "HTTP request sent, awaiting response... 200 OK\n",
            "Length: 1848104 (1.8M)\n",
            "Saving to: ‘sofacoustics.org/data/database/cipic/subject_018.sofa’\n",
            "\n",
            "sofacoustics.org/da 100%[===================>]   1.76M   882KB/s    in 2.0s    \n",
            "\n",
            "2018-12-14 14:54:18 (882 KB/s) - ‘sofacoustics.org/data/database/cipic/subject_018.sofa’ saved [1848104/1848104]\n",
            "\n",
            "--2018-12-14 14:54:19--  http://sofacoustics.org/data/database/cipic/subject_019.sofa\n",
            "Reusing existing connection to sofacoustics.org:80.\n",
            "HTTP request sent, awaiting response... 200 OK\n",
            "Length: 1832527 (1.7M)\n",
            "Saving to: ‘sofacoustics.org/data/database/cipic/subject_019.sofa’\n",
            "\n",
            "sofacoustics.org/da 100%[===================>]   1.75M   971KB/s    in 1.8s    \n",
            "\n",
            "2018-12-14 14:54:21 (971 KB/s) - ‘sofacoustics.org/data/database/cipic/subject_019.sofa’ saved [1832527/1832527]\n",
            "\n",
            "--2018-12-14 14:54:22--  http://sofacoustics.org/data/database/cipic/subject_020.sofa\n",
            "Reusing existing connection to sofacoustics.org:80.\n",
            "HTTP request sent, awaiting response... 200 OK\n",
            "Length: 1833306 (1.7M)\n",
            "Saving to: ‘sofacoustics.org/data/database/cipic/subject_020.sofa’\n",
            "\n",
            "sofacoustics.org/da 100%[===================>]   1.75M  1.09MB/s    in 1.6s    \n",
            "\n",
            "2018-12-14 14:54:24 (1.09 MB/s) - ‘sofacoustics.org/data/database/cipic/subject_020.sofa’ saved [1833306/1833306]\n",
            "\n",
            "--2018-12-14 14:54:25--  http://sofacoustics.org/data/database/cipic/subject_021.sofa\n",
            "Reusing existing connection to sofacoustics.org:80.\n",
            "HTTP request sent, awaiting response... 200 OK\n",
            "Length: 1847371 (1.8M)\n",
            "Saving to: ‘sofacoustics.org/data/database/cipic/subject_021.sofa’\n",
            "\n",
            "sofacoustics.org/da 100%[===================>]   1.76M  1.42MB/s    in 1.2s    \n",
            "\n",
            "2018-12-14 14:54:26 (1.42 MB/s) - ‘sofacoustics.org/data/database/cipic/subject_021.sofa’ saved [1847371/1847371]\n",
            "\n",
            "--2018-12-14 14:54:27--  http://sofacoustics.org/data/database/cipic/subject_027.sofa\n",
            "Reusing existing connection to sofacoustics.org:80.\n",
            "HTTP request sent, awaiting response... 200 OK\n",
            "Length: 1852010 (1.8M)\n",
            "Saving to: ‘sofacoustics.org/data/database/cipic/subject_027.sofa’\n",
            "\n",
            "sofacoustics.org/da 100%[===================>]   1.77M  1.77MB/s    in 1.0s    \n",
            "\n",
            "2018-12-14 14:54:29 (1.77 MB/s) - ‘sofacoustics.org/data/database/cipic/subject_027.sofa’ saved [1852010/1852010]\n",
            "\n",
            "--2018-12-14 14:54:30--  http://sofacoustics.org/data/database/cipic/subject_028.sofa\n",
            "Reusing existing connection to sofacoustics.org:80.\n",
            "HTTP request sent, awaiting response... 200 OK\n",
            "Length: 1832089 (1.7M)\n",
            "Saving to: ‘sofacoustics.org/data/database/cipic/subject_028.sofa’\n",
            "\n",
            "sofacoustics.org/da 100%[===================>]   1.75M  1.77MB/s    in 1.0s    \n",
            "\n",
            "2018-12-14 14:54:31 (1.77 MB/s) - ‘sofacoustics.org/data/database/cipic/subject_028.sofa’ saved [1832089/1832089]\n",
            "\n",
            "--2018-12-14 14:54:32--  http://sofacoustics.org/data/database/cipic/subject_033.sofa\n",
            "Reusing existing connection to sofacoustics.org:80.\n",
            "HTTP request sent, awaiting response... 200 OK\n",
            "Length: 1836015 (1.8M)\n",
            "Saving to: ‘sofacoustics.org/data/database/cipic/subject_033.sofa’\n",
            "\n",
            "sofacoustics.org/da 100%[===================>]   1.75M  1.77MB/s    in 1.0s    \n",
            "\n",
            "2018-12-14 14:54:33 (1.77 MB/s) - ‘sofacoustics.org/data/database/cipic/subject_033.sofa’ saved [1836015/1836015]\n",
            "\n",
            "--2018-12-14 14:54:34--  http://sofacoustics.org/data/database/cipic/subject_040.sofa\n",
            "Reusing existing connection to sofacoustics.org:80.\n",
            "HTTP request sent, awaiting response... 200 OK\n",
            "Length: 1848213 (1.8M)\n",
            "Saving to: ‘sofacoustics.org/data/database/cipic/subject_040.sofa’\n",
            "\n",
            "sofacoustics.org/da 100%[===================>]   1.76M  1.77MB/s    in 1.0s    \n",
            "\n",
            "2018-12-14 14:54:35 (1.77 MB/s) - ‘sofacoustics.org/data/database/cipic/subject_040.sofa’ saved [1848213/1848213]\n",
            "\n",
            "--2018-12-14 14:54:36--  http://sofacoustics.org/data/database/cipic/subject_044.sofa\n",
            "Reusing existing connection to sofacoustics.org:80.\n",
            "HTTP request sent, awaiting response... 200 OK\n",
            "Length: 1834737 (1.7M)\n",
            "Saving to: ‘sofacoustics.org/data/database/cipic/subject_044.sofa’\n",
            "\n",
            "sofacoustics.org/da 100%[===================>]   1.75M  1.28MB/s    in 1.4s    \n",
            "\n",
            "2018-12-14 14:54:37 (1.28 MB/s) - ‘sofacoustics.org/data/database/cipic/subject_044.sofa’ saved [1834737/1834737]\n",
            "\n",
            "--2018-12-14 14:54:38--  http://sofacoustics.org/data/database/cipic/subject_048.sofa\n",
            "Reusing existing connection to sofacoustics.org:80.\n",
            "HTTP request sent, awaiting response... 200 OK\n",
            "Length: 1848967 (1.8M)\n",
            "Saving to: ‘sofacoustics.org/data/database/cipic/subject_048.sofa’\n",
            "\n",
            "sofacoustics.org/da 100%[===================>]   1.76M  1.29MB/s    in 1.4s    \n",
            "\n",
            "2018-12-14 14:54:40 (1.29 MB/s) - ‘sofacoustics.org/data/database/cipic/subject_048.sofa’ saved [1848967/1848967]\n",
            "\n",
            "--2018-12-14 14:54:41--  http://sofacoustics.org/data/database/cipic/subject_050.sofa\n",
            "Reusing existing connection to sofacoustics.org:80.\n",
            "HTTP request sent, awaiting response... 200 OK\n",
            "Length: 1845818 (1.8M)\n",
            "Saving to: ‘sofacoustics.org/data/database/cipic/subject_050.sofa’\n",
            "\n",
            "sofacoustics.org/da 100%[===================>]   1.76M   356KB/s    in 5.9s    \n",
            "\n",
            "2018-12-14 14:54:47 (304 KB/s) - ‘sofacoustics.org/data/database/cipic/subject_050.sofa’ saved [1845818/1845818]\n",
            "\n",
            "--2018-12-14 14:54:48--  http://sofacoustics.org/data/database/cipic/subject_051.sofa\n",
            "Reusing existing connection to sofacoustics.org:80.\n",
            "HTTP request sent, awaiting response... 200 OK\n",
            "Length: 1854647 (1.8M)\n",
            "Saving to: ‘sofacoustics.org/data/database/cipic/subject_051.sofa’\n",
            "\n",
            "sofacoustics.org/da 100%[===================>]   1.77M   738KB/s    in 2.5s    \n",
            "\n",
            "2018-12-14 14:54:51 (738 KB/s) - ‘sofacoustics.org/data/database/cipic/subject_051.sofa’ saved [1854647/1854647]\n",
            "\n",
            "--2018-12-14 14:54:52--  http://sofacoustics.org/data/database/cipic/subject_058.sofa\n",
            "Reusing existing connection to sofacoustics.org:80.\n",
            "HTTP request sent, awaiting response... 200 OK\n",
            "Length: 1845549 (1.8M)\n",
            "Saving to: ‘sofacoustics.org/data/database/cipic/subject_058.sofa’\n",
            "\n",
            "sofacoustics.org/da 100%[===================>]   1.76M  1.30MB/s    in 1.4s    \n",
            "\n",
            "2018-12-14 14:54:53 (1.30 MB/s) - ‘sofacoustics.org/data/database/cipic/subject_058.sofa’ saved [1845549/1845549]\n",
            "\n",
            "--2018-12-14 14:54:54--  http://sofacoustics.org/data/database/cipic/subject_059.sofa\n",
            "Reusing existing connection to sofacoustics.org:80.\n",
            "HTTP request sent, awaiting response... 200 OK\n",
            "Length: 1842970 (1.8M)\n",
            "Saving to: ‘sofacoustics.org/data/database/cipic/subject_059.sofa’\n",
            "\n",
            "sofacoustics.org/da 100%[===================>]   1.76M  1.79MB/s    in 1.0s    \n",
            "\n",
            "2018-12-14 14:54:55 (1.79 MB/s) - ‘sofacoustics.org/data/database/cipic/subject_059.sofa’ saved [1842970/1842970]\n",
            "\n",
            "--2018-12-14 14:54:56--  http://sofacoustics.org/data/database/cipic/subject_060.sofa\n",
            "Reusing existing connection to sofacoustics.org:80.\n",
            "HTTP request sent, awaiting response... 200 OK\n",
            "Length: 1842637 (1.8M)\n",
            "Saving to: ‘sofacoustics.org/data/database/cipic/subject_060.sofa’\n",
            "\n",
            "sofacoustics.org/da 100%[===================>]   1.76M  2.36MB/s    in 0.7s    \n",
            "\n",
            "2018-12-14 14:54:57 (2.36 MB/s) - ‘sofacoustics.org/data/database/cipic/subject_060.sofa’ saved [1842637/1842637]\n",
            "\n",
            "--2018-12-14 14:54:58--  http://sofacoustics.org/data/database/cipic/subject_061.sofa\n",
            "Reusing existing connection to sofacoustics.org:80.\n",
            "HTTP request sent, awaiting response... 200 OK\n",
            "Length: 1847483 (1.8M)\n",
            "Saving to: ‘sofacoustics.org/data/database/cipic/subject_061.sofa’\n",
            "\n",
            "sofacoustics.org/da 100%[===================>]   1.76M  2.39MB/s    in 0.7s    \n",
            "\n",
            "2018-12-14 14:54:59 (2.39 MB/s) - ‘sofacoustics.org/data/database/cipic/subject_061.sofa’ saved [1847483/1847483]\n",
            "\n",
            "--2018-12-14 14:55:00--  http://sofacoustics.org/data/database/cipic/subject_065.sofa\n",
            "Reusing existing connection to sofacoustics.org:80.\n",
            "HTTP request sent, awaiting response... 200 OK\n",
            "Length: 1837513 (1.8M)\n",
            "Saving to: ‘sofacoustics.org/data/database/cipic/subject_065.sofa’\n",
            "\n",
            "sofacoustics.org/da 100%[===================>]   1.75M  2.85MB/s    in 0.6s    \n",
            "\n",
            "2018-12-14 14:55:01 (2.85 MB/s) - ‘sofacoustics.org/data/database/cipic/subject_065.sofa’ saved [1837513/1837513]\n",
            "\n",
            "--2018-12-14 14:55:02--  http://sofacoustics.org/data/database/cipic/subject_119.sofa\n",
            "Reusing existing connection to sofacoustics.org:80.\n",
            "HTTP request sent, awaiting response... 200 OK\n",
            "Length: 1836354 (1.8M)\n",
            "Saving to: ‘sofacoustics.org/data/database/cipic/subject_119.sofa’\n",
            "\n",
            "sofacoustics.org/da 100%[===================>]   1.75M  3.50MB/s    in 0.5s    \n",
            "\n",
            "2018-12-14 14:55:02 (3.50 MB/s) - ‘sofacoustics.org/data/database/cipic/subject_119.sofa’ saved [1836354/1836354]\n",
            "\n",
            "--2018-12-14 14:55:03--  http://sofacoustics.org/data/database/cipic/subject_124.sofa\n",
            "Reusing existing connection to sofacoustics.org:80.\n",
            "HTTP request sent, awaiting response... 200 OK\n",
            "Length: 1847925 (1.8M)\n",
            "Saving to: ‘sofacoustics.org/data/database/cipic/subject_124.sofa’\n",
            "\n",
            "sofacoustics.org/da 100%[===================>]   1.76M  3.52MB/s    in 0.5s    \n",
            "\n",
            "2018-12-14 14:55:04 (3.52 MB/s) - ‘sofacoustics.org/data/database/cipic/subject_124.sofa’ saved [1847925/1847925]\n",
            "\n",
            "--2018-12-14 14:55:05--  http://sofacoustics.org/data/database/cipic/subject_126.sofa\n",
            "Reusing existing connection to sofacoustics.org:80.\n",
            "HTTP request sent, awaiting response... 200 OK\n",
            "Length: 1843498 (1.8M)\n",
            "Saving to: ‘sofacoustics.org/data/database/cipic/subject_126.sofa’\n",
            "\n",
            "sofacoustics.org/da 100%[===================>]   1.76M  3.48MB/s    in 0.5s    \n",
            "\n",
            "2018-12-14 14:55:06 (3.48 MB/s) - ‘sofacoustics.org/data/database/cipic/subject_126.sofa’ saved [1843498/1843498]\n",
            "\n",
            "--2018-12-14 14:55:07--  http://sofacoustics.org/data/database/cipic/subject_127.sofa\n",
            "Reusing existing connection to sofacoustics.org:80.\n",
            "HTTP request sent, awaiting response... 200 OK\n",
            "Length: 1851236 (1.8M)\n",
            "Saving to: ‘sofacoustics.org/data/database/cipic/subject_127.sofa’\n",
            "\n",
            "sofacoustics.org/da 100%[===================>]   1.76M  3.54MB/s    in 0.5s    \n",
            "\n",
            "2018-12-14 14:55:07 (3.54 MB/s) - ‘sofacoustics.org/data/database/cipic/subject_127.sofa’ saved [1851236/1851236]\n",
            "\n",
            "--2018-12-14 14:55:08--  http://sofacoustics.org/data/database/cipic/subject_131.sofa\n",
            "Reusing existing connection to sofacoustics.org:80.\n",
            "HTTP request sent, awaiting response... 200 OK\n",
            "Length: 1837880 (1.8M)\n",
            "Saving to: ‘sofacoustics.org/data/database/cipic/subject_131.sofa’\n",
            "\n",
            "sofacoustics.org/da 100%[===================>]   1.75M  2.83MB/s    in 0.6s    \n",
            "\n",
            "2018-12-14 14:55:09 (2.83 MB/s) - ‘sofacoustics.org/data/database/cipic/subject_131.sofa’ saved [1837880/1837880]\n",
            "\n",
            "--2018-12-14 14:55:10--  http://sofacoustics.org/data/database/cipic/subject_133.sofa\n",
            "Reusing existing connection to sofacoustics.org:80.\n",
            "HTTP request sent, awaiting response... 200 OK\n",
            "Length: 1846119 (1.8M)\n",
            "Saving to: ‘sofacoustics.org/data/database/cipic/subject_133.sofa’\n",
            "\n",
            "sofacoustics.org/da 100%[===================>]   1.76M  2.86MB/s    in 0.6s    \n",
            "\n",
            "2018-12-14 14:55:11 (2.86 MB/s) - ‘sofacoustics.org/data/database/cipic/subject_133.sofa’ saved [1846119/1846119]\n",
            "\n",
            "--2018-12-14 14:55:12--  http://sofacoustics.org/data/database/cipic/subject_134.sofa\n",
            "Reusing existing connection to sofacoustics.org:80.\n",
            "HTTP request sent, awaiting response... 200 OK\n",
            "Length: 1841266 (1.8M)\n",
            "Saving to: ‘sofacoustics.org/data/database/cipic/subject_134.sofa’\n",
            "\n",
            "sofacoustics.org/da 100%[===================>]   1.76M  2.86MB/s    in 0.6s    \n",
            "\n",
            "2018-12-14 14:55:12 (2.86 MB/s) - ‘sofacoustics.org/data/database/cipic/subject_134.sofa’ saved [1841266/1841266]\n",
            "\n",
            "--2018-12-14 14:55:13--  http://sofacoustics.org/data/database/cipic/subject_135.sofa\n",
            "Reusing existing connection to sofacoustics.org:80.\n",
            "HTTP request sent, awaiting response... 200 OK\n",
            "Length: 1841845 (1.8M)\n",
            "Saving to: ‘sofacoustics.org/data/database/cipic/subject_135.sofa’\n",
            "\n",
            "sofacoustics.org/da 100%[===================>]   1.76M  3.51MB/s    in 0.5s    \n",
            "\n",
            "2018-12-14 14:55:14 (3.51 MB/s) - ‘sofacoustics.org/data/database/cipic/subject_135.sofa’ saved [1841845/1841845]\n",
            "\n",
            "--2018-12-14 14:55:15--  http://sofacoustics.org/data/database/cipic/subject_137.sofa\n",
            "Reusing existing connection to sofacoustics.org:80.\n",
            "HTTP request sent, awaiting response... 200 OK\n",
            "Length: 1853245 (1.8M)\n",
            "Saving to: ‘sofacoustics.org/data/database/cipic/subject_137.sofa’\n",
            "\n",
            "sofacoustics.org/da 100%[===================>]   1.77M  3.48MB/s    in 0.5s    \n",
            "\n",
            "2018-12-14 14:55:16 (3.48 MB/s) - ‘sofacoustics.org/data/database/cipic/subject_137.sofa’ saved [1853245/1853245]\n",
            "\n",
            "--2018-12-14 14:55:17--  http://sofacoustics.org/data/database/cipic/subject_147.sofa\n",
            "Reusing existing connection to sofacoustics.org:80.\n",
            "HTTP request sent, awaiting response... 200 OK\n",
            "Length: 1845786 (1.8M)\n",
            "Saving to: ‘sofacoustics.org/data/database/cipic/subject_147.sofa’\n",
            "\n",
            "sofacoustics.org/da 100%[===================>]   1.76M  3.39MB/s    in 0.5s    \n",
            "\n",
            "2018-12-14 14:55:17 (3.39 MB/s) - ‘sofacoustics.org/data/database/cipic/subject_147.sofa’ saved [1845786/1845786]\n",
            "\n",
            "--2018-12-14 14:55:18--  http://sofacoustics.org/data/database/cipic/subject_148.sofa\n",
            "Reusing existing connection to sofacoustics.org:80.\n",
            "HTTP request sent, awaiting response... 200 OK\n",
            "Length: 1841536 (1.8M)\n",
            "Saving to: ‘sofacoustics.org/data/database/cipic/subject_148.sofa’\n",
            "\n",
            "sofacoustics.org/da 100%[===================>]   1.76M  2.78MB/s    in 0.6s    \n",
            "\n",
            "2018-12-14 14:55:19 (2.78 MB/s) - ‘sofacoustics.org/data/database/cipic/subject_148.sofa’ saved [1841536/1841536]\n",
            "\n",
            "--2018-12-14 14:55:20--  http://sofacoustics.org/data/database/cipic/subject_152.sofa\n",
            "Reusing existing connection to sofacoustics.org:80.\n",
            "HTTP request sent, awaiting response... 200 OK\n",
            "Length: 1854328 (1.8M)\n",
            "Saving to: ‘sofacoustics.org/data/database/cipic/subject_152.sofa’\n",
            "\n",
            "sofacoustics.org/da 100%[===================>]   1.77M  2.83MB/s    in 0.6s    \n",
            "\n",
            "2018-12-14 14:55:21 (2.83 MB/s) - ‘sofacoustics.org/data/database/cipic/subject_152.sofa’ saved [1854328/1854328]\n",
            "\n",
            "--2018-12-14 14:55:22--  http://sofacoustics.org/data/database/cipic/subject_153.sofa\n",
            "Reusing existing connection to sofacoustics.org:80.\n",
            "HTTP request sent, awaiting response... 200 OK\n",
            "Length: 1840168 (1.8M)\n",
            "Saving to: ‘sofacoustics.org/data/database/cipic/subject_153.sofa’\n",
            "\n",
            "sofacoustics.org/da 100%[===================>]   1.75M  2.73MB/s    in 0.6s    \n",
            "\n",
            "2018-12-14 14:55:23 (2.73 MB/s) - ‘sofacoustics.org/data/database/cipic/subject_153.sofa’ saved [1840168/1840168]\n",
            "\n",
            "--2018-12-14 14:55:24--  http://sofacoustics.org/data/database/cipic/subject_154.sofa\n",
            "Reusing existing connection to sofacoustics.org:80.\n",
            "HTTP request sent, awaiting response... 200 OK\n",
            "Length: 1850848 (1.8M)\n",
            "Saving to: ‘sofacoustics.org/data/database/cipic/subject_154.sofa’\n",
            "\n",
            "sofacoustics.org/da 100%[===================>]   1.76M  2.01MB/s    in 0.9s    \n",
            "\n",
            "2018-12-14 14:55:25 (2.01 MB/s) - ‘sofacoustics.org/data/database/cipic/subject_154.sofa’ saved [1850848/1850848]\n",
            "\n",
            "--2018-12-14 14:55:26--  http://sofacoustics.org/data/database/cipic/subject_155.sofa\n",
            "Reusing existing connection to sofacoustics.org:80.\n",
            "HTTP request sent, awaiting response... 200 OK\n",
            "Length: 1842580 (1.8M)\n",
            "Saving to: ‘sofacoustics.org/data/database/cipic/subject_155.sofa’\n",
            "\n",
            "sofacoustics.org/da 100%[===================>]   1.76M  1.78MB/s    in 1.0s    \n",
            "\n",
            "2018-12-14 14:55:27 (1.78 MB/s) - ‘sofacoustics.org/data/database/cipic/subject_155.sofa’ saved [1842580/1842580]\n",
            "\n",
            "--2018-12-14 14:55:28--  http://sofacoustics.org/data/database/cipic/subject_156.sofa\n",
            "Reusing existing connection to sofacoustics.org:80.\n",
            "HTTP request sent, awaiting response... 200 OK\n",
            "Length: 1845953 (1.8M)\n",
            "Saving to: ‘sofacoustics.org/data/database/cipic/subject_156.sofa’\n",
            "\n",
            "sofacoustics.org/da 100%[===================>]   1.76M  1.41MB/s    in 1.2s    \n",
            "\n",
            "2018-12-14 14:55:29 (1.41 MB/s) - ‘sofacoustics.org/data/database/cipic/subject_156.sofa’ saved [1845953/1845953]\n",
            "\n",
            "--2018-12-14 14:55:30--  http://sofacoustics.org/data/database/cipic/subject_158.sofa\n",
            "Reusing existing connection to sofacoustics.org:80.\n",
            "HTTP request sent, awaiting response... 200 OK\n",
            "Length: 1854999 (1.8M)\n",
            "Saving to: ‘sofacoustics.org/data/database/cipic/subject_158.sofa’\n",
            "\n",
            "sofacoustics.org/da 100%[===================>]   1.77M  1.41MB/s    in 1.3s    \n",
            "\n",
            "2018-12-14 14:55:32 (1.41 MB/s) - ‘sofacoustics.org/data/database/cipic/subject_158.sofa’ saved [1854999/1854999]\n",
            "\n",
            "--2018-12-14 14:55:33--  http://sofacoustics.org/data/database/cipic/subject_162.sofa\n",
            "Reusing existing connection to sofacoustics.org:80.\n",
            "HTTP request sent, awaiting response... 200 OK\n",
            "Length: 1839038 (1.8M)\n",
            "Saving to: ‘sofacoustics.org/data/database/cipic/subject_162.sofa’\n",
            "\n",
            "sofacoustics.org/da 100%[===================>]   1.75M  1.28MB/s    in 1.4s    \n",
            "\n",
            "2018-12-14 14:55:34 (1.28 MB/s) - ‘sofacoustics.org/data/database/cipic/subject_162.sofa’ saved [1839038/1839038]\n",
            "\n",
            "--2018-12-14 14:55:35--  http://sofacoustics.org/data/database/cipic/subject_163.sofa\n",
            "Reusing existing connection to sofacoustics.org:80.\n",
            "HTTP request sent, awaiting response... 200 OK\n",
            "Length: 1849659 (1.8M)\n",
            "Saving to: ‘sofacoustics.org/data/database/cipic/subject_163.sofa’\n",
            "\n",
            "sofacoustics.org/da 100%[===================>]   1.76M  1.42MB/s    in 1.2s    \n",
            "\n",
            "2018-12-14 14:55:37 (1.42 MB/s) - ‘sofacoustics.org/data/database/cipic/subject_163.sofa’ saved [1849659/1849659]\n",
            "\n",
            "--2018-12-14 14:55:38--  http://sofacoustics.org/data/database/cipic/subject_165.sofa\n",
            "Reusing existing connection to sofacoustics.org:80.\n",
            "HTTP request sent, awaiting response... 200 OK\n",
            "Length: 1846521 (1.8M)\n",
            "Saving to: ‘sofacoustics.org/data/database/cipic/subject_165.sofa’\n",
            "\n",
            "sofacoustics.org/da 100%[===================>]   1.76M  1.42MB/s    in 1.2s    \n",
            "\n",
            "2018-12-14 14:55:39 (1.42 MB/s) - ‘sofacoustics.org/data/database/cipic/subject_165.sofa’ saved [1846521/1846521]\n",
            "\n",
            "FINISHED --2018-12-14 14:55:39--\n",
            "Total wall clock time: 1m 57s\n",
            "Downloaded: 51 files, 79M in 1m 0s (1.33 MB/s)\n"
          ],
          "name": "stdout"
        }
      ]
    },
    {
      "metadata": {
        "id": "KFHbitr2d2l2",
        "colab_type": "code",
        "colab": {
          "base_uri": "https://localhost:8080/",
          "height": 34
        },
        "outputId": "9859c093-17a6-43f2-c967-fcb11411c019"
      },
      "cell_type": "code",
      "source": [
        "!mkdir data/cipic_hrtf_sofa\n",
        "!mv sofacoustics.org/data/database/cipic/*.sofa data/cipic_hrtf_sofa\n",
        "!ls data/cipic_hrtf_sofa | wc -l"
      ],
      "execution_count": 9,
      "outputs": [
        {
          "output_type": "stream",
          "text": [
            "45\n"
          ],
          "name": "stdout"
        }
      ]
    },
    {
      "metadata": {
        "id": "of5ptSvnfFjr",
        "colab_type": "code",
        "colab": {
          "base_uri": "https://localhost:8080/",
          "height": 51
        },
        "outputId": "faa206d6-ee9a-45f5-8eaf-26f1ab1d71c8"
      },
      "cell_type": "code",
      "source": [
        "!pip install -U -q PyDrive\n",
        "\n",
        "from pydrive.auth import GoogleAuth\n",
        "from pydrive.drive import GoogleDrive\n",
        "from google.colab import auth\n",
        "from oauth2client.client import GoogleCredentials\n",
        "\n",
        "# 1. Authenticate and create the PyDrive client.\n",
        "auth.authenticate_user()\n",
        "gauth = GoogleAuth()\n",
        "gauth.credentials = GoogleCredentials.get_application_default()\n",
        "drive = GoogleDrive(gauth)\n",
        "\n",
        "                          \n",
        "# 3. Load a file by ID and print its contents.\n",
        "downloaded = drive.CreateFile({'id': '1a6LihoO2agENYDM6qdpL9tqUa4yQBHTn'})\n",
        "print('Downloaded pinnas \"{}\"'.format(downloaded.GetContentFile('pinnas.zip')))\n",
        "\n",
        "downloaded = drive.CreateFile({'id': '1rJT5NgX_OoI_5_fFxQmjGvxo6ZgFSvN_'})\n",
        "print('Downloaded images \"{}\"'.format(downloaded.GetContentFile('ear.zip')))"
      ],
      "execution_count": 10,
      "outputs": [
        {
          "output_type": "stream",
          "text": [
            "Downloaded pinnas \"None\"\n",
            "Downloaded images \"None\"\n"
          ],
          "name": "stdout"
        }
      ]
    },
    {
      "metadata": {
        "id": "HWF1Aad5fU45",
        "colab_type": "code",
        "colab": {
          "base_uri": "https://localhost:8080/",
          "height": 5746
        },
        "outputId": "2e7fb16b-4973-4ba0-bf03-4eb3e6277697"
      },
      "cell_type": "code",
      "source": [
        "!unzip pinnas.zip\n",
        "!unzip ear.zip\n",
        "!mv CIPIC_hrtf_database data\n",
        "!mv binural-updates/ear_photos data"
      ],
      "execution_count": 11,
      "outputs": [
        {
          "output_type": "stream",
          "text": [
            "Archive:  pinnas.zip\n",
            "   creating: CIPIC_hrtf_database/\n",
            "  inflating: CIPIC_hrtf_database/read_me.txt  \n",
            "   creating: CIPIC_hrtf_database/doc/\n",
            "  inflating: CIPIC_hrtf_database/doc/hrir_data_documentation.pdf  \n",
            "  inflating: CIPIC_hrtf_database/doc/show_data_manual.pdf  \n",
            "  inflating: CIPIC_hrtf_database/doc/anthropometry.pdf  \n",
            "   creating: CIPIC_hrtf_database/special_kemar_hrir/\n",
            "   creating: CIPIC_hrtf_database/special_kemar_hrir/kemar_frontal/\n",
            "  inflating: CIPIC_hrtf_database/special_kemar_hrir/kemar_frontal/small_pinna_frontal.mat  \n",
            "  inflating: CIPIC_hrtf_database/special_kemar_hrir/kemar_frontal/large_pinna_frontal.mat  \n",
            "  inflating: CIPIC_hrtf_database/special_kemar_hrir/kemar_frontal/read_me.txt  \n",
            "   creating: CIPIC_hrtf_database/special_kemar_hrir/kemar_horizontal/\n",
            "  inflating: CIPIC_hrtf_database/special_kemar_hrir/kemar_horizontal/small_pinna_final.mat  \n",
            "  inflating: CIPIC_hrtf_database/special_kemar_hrir/kemar_horizontal/large_pinna_final.mat  \n",
            "  inflating: CIPIC_hrtf_database/special_kemar_hrir/kemar_horizontal/read_me.txt  \n",
            "  inflating: CIPIC_hrtf_database/special_kemar_hrir/read_me.txt  \n",
            "   creating: CIPIC_hrtf_database/anthropometry/\n",
            "  inflating: CIPIC_hrtf_database/anthropometry/anthro.mat  \n",
            "  inflating: CIPIC_hrtf_database/anthropometry/read_me.txt  \n",
            "   creating: CIPIC_hrtf_database/standard_hrir_database/\n",
            "   creating: CIPIC_hrtf_database/standard_hrir_database/subject_003/\n",
            "  inflating: CIPIC_hrtf_database/standard_hrir_database/subject_003/hrir_final.mat  \n",
            "   creating: CIPIC_hrtf_database/standard_hrir_database/subject_008/\n",
            "  inflating: CIPIC_hrtf_database/standard_hrir_database/subject_008/hrir_final.mat  \n",
            "   creating: CIPIC_hrtf_database/standard_hrir_database/subject_009/\n",
            "  inflating: CIPIC_hrtf_database/standard_hrir_database/subject_009/hrir_final.mat  \n",
            "   creating: CIPIC_hrtf_database/standard_hrir_database/subject_010/\n",
            "  inflating: CIPIC_hrtf_database/standard_hrir_database/subject_010/hrir_final.mat  \n",
            "   creating: CIPIC_hrtf_database/standard_hrir_database/subject_011/\n",
            "  inflating: CIPIC_hrtf_database/standard_hrir_database/subject_011/hrir_final.mat  \n",
            "   creating: CIPIC_hrtf_database/standard_hrir_database/subject_012/\n",
            "  inflating: CIPIC_hrtf_database/standard_hrir_database/subject_012/hrir_final.mat  \n",
            "   creating: CIPIC_hrtf_database/standard_hrir_database/subject_015/\n",
            "  inflating: CIPIC_hrtf_database/standard_hrir_database/subject_015/hrir_final.mat  \n",
            "   creating: CIPIC_hrtf_database/standard_hrir_database/subject_017/\n",
            "  inflating: CIPIC_hrtf_database/standard_hrir_database/subject_017/hrir_final.mat  \n",
            "   creating: CIPIC_hrtf_database/standard_hrir_database/subject_018/\n",
            "  inflating: CIPIC_hrtf_database/standard_hrir_database/subject_018/hrir_final.mat  \n",
            "   creating: CIPIC_hrtf_database/standard_hrir_database/subject_019/\n",
            "  inflating: CIPIC_hrtf_database/standard_hrir_database/subject_019/hrir_final.mat  \n",
            "   creating: CIPIC_hrtf_database/standard_hrir_database/subject_020/\n",
            "  inflating: CIPIC_hrtf_database/standard_hrir_database/subject_020/hrir_final.mat  \n",
            "   creating: CIPIC_hrtf_database/standard_hrir_database/subject_021/\n",
            "  inflating: CIPIC_hrtf_database/standard_hrir_database/subject_021/hrir_final.mat  \n",
            "   creating: CIPIC_hrtf_database/standard_hrir_database/subject_027/\n",
            "  inflating: CIPIC_hrtf_database/standard_hrir_database/subject_027/hrir_final.mat  \n",
            "   creating: CIPIC_hrtf_database/standard_hrir_database/subject_028/\n",
            "  inflating: CIPIC_hrtf_database/standard_hrir_database/subject_028/hrir_final.mat  \n",
            "   creating: CIPIC_hrtf_database/standard_hrir_database/subject_033/\n",
            "  inflating: CIPIC_hrtf_database/standard_hrir_database/subject_033/hrir_final.mat  \n",
            "   creating: CIPIC_hrtf_database/standard_hrir_database/subject_040/\n",
            "  inflating: CIPIC_hrtf_database/standard_hrir_database/subject_040/hrir_final.mat  \n",
            "   creating: CIPIC_hrtf_database/standard_hrir_database/subject_044/\n",
            "  inflating: CIPIC_hrtf_database/standard_hrir_database/subject_044/hrir_final.mat  \n",
            "   creating: CIPIC_hrtf_database/standard_hrir_database/subject_048/\n",
            "  inflating: CIPIC_hrtf_database/standard_hrir_database/subject_048/hrir_final.mat  \n",
            "   creating: CIPIC_hrtf_database/standard_hrir_database/subject_050/\n",
            "  inflating: CIPIC_hrtf_database/standard_hrir_database/subject_050/hrir_final.mat  \n",
            "   creating: CIPIC_hrtf_database/standard_hrir_database/subject_051/\n",
            "  inflating: CIPIC_hrtf_database/standard_hrir_database/subject_051/hrir_final.mat  \n",
            "   creating: CIPIC_hrtf_database/standard_hrir_database/subject_058/\n",
            "  inflating: CIPIC_hrtf_database/standard_hrir_database/subject_058/hrir_final.mat  \n",
            "   creating: CIPIC_hrtf_database/standard_hrir_database/subject_059/\n",
            "  inflating: CIPIC_hrtf_database/standard_hrir_database/subject_059/hrir_final.mat  \n",
            "   creating: CIPIC_hrtf_database/standard_hrir_database/subject_060/\n",
            "  inflating: CIPIC_hrtf_database/standard_hrir_database/subject_060/hrir_final.mat  \n",
            "   creating: CIPIC_hrtf_database/standard_hrir_database/subject_061/\n",
            "  inflating: CIPIC_hrtf_database/standard_hrir_database/subject_061/hrir_final.mat  \n",
            "   creating: CIPIC_hrtf_database/standard_hrir_database/subject_065/\n",
            "  inflating: CIPIC_hrtf_database/standard_hrir_database/subject_065/hrir_final.mat  \n",
            "   creating: CIPIC_hrtf_database/standard_hrir_database/subject_119/\n",
            "  inflating: CIPIC_hrtf_database/standard_hrir_database/subject_119/hrir_final.mat  \n",
            "   creating: CIPIC_hrtf_database/standard_hrir_database/subject_124/\n",
            "  inflating: CIPIC_hrtf_database/standard_hrir_database/subject_124/hrir_final.mat  \n",
            "   creating: CIPIC_hrtf_database/standard_hrir_database/subject_126/\n",
            "  inflating: CIPIC_hrtf_database/standard_hrir_database/subject_126/hrir_final.mat  \n",
            "   creating: CIPIC_hrtf_database/standard_hrir_database/subject_127/\n",
            "  inflating: CIPIC_hrtf_database/standard_hrir_database/subject_127/hrir_final.mat  \n",
            "   creating: CIPIC_hrtf_database/standard_hrir_database/subject_131/\n",
            "  inflating: CIPIC_hrtf_database/standard_hrir_database/subject_131/hrir_final.mat  \n",
            "   creating: CIPIC_hrtf_database/standard_hrir_database/subject_133/\n",
            "  inflating: CIPIC_hrtf_database/standard_hrir_database/subject_133/hrir_final.mat  \n",
            "   creating: CIPIC_hrtf_database/standard_hrir_database/subject_134/\n",
            "  inflating: CIPIC_hrtf_database/standard_hrir_database/subject_134/hrir_final.mat  \n",
            "   creating: CIPIC_hrtf_database/standard_hrir_database/subject_135/\n",
            "  inflating: CIPIC_hrtf_database/standard_hrir_database/subject_135/hrir_final.mat  \n",
            "   creating: CIPIC_hrtf_database/standard_hrir_database/subject_137/\n",
            "  inflating: CIPIC_hrtf_database/standard_hrir_database/subject_137/hrir_final.mat  \n",
            "   creating: CIPIC_hrtf_database/standard_hrir_database/subject_147/\n",
            "  inflating: CIPIC_hrtf_database/standard_hrir_database/subject_147/hrir_final.mat  \n",
            "   creating: CIPIC_hrtf_database/standard_hrir_database/subject_148/\n",
            "  inflating: CIPIC_hrtf_database/standard_hrir_database/subject_148/hrir_final.mat  \n",
            "   creating: CIPIC_hrtf_database/standard_hrir_database/subject_152/\n",
            "  inflating: CIPIC_hrtf_database/standard_hrir_database/subject_152/hrir_final.mat  \n",
            "   creating: CIPIC_hrtf_database/standard_hrir_database/subject_153/\n",
            "  inflating: CIPIC_hrtf_database/standard_hrir_database/subject_153/hrir_final.mat  \n",
            "   creating: CIPIC_hrtf_database/standard_hrir_database/subject_154/\n",
            "  inflating: CIPIC_hrtf_database/standard_hrir_database/subject_154/hrir_final.mat  \n",
            "   creating: CIPIC_hrtf_database/standard_hrir_database/subject_155/\n",
            "  inflating: CIPIC_hrtf_database/standard_hrir_database/subject_155/hrir_final.mat  \n",
            "   creating: CIPIC_hrtf_database/standard_hrir_database/subject_156/\n",
            "  inflating: CIPIC_hrtf_database/standard_hrir_database/subject_156/hrir_final.mat  \n",
            "   creating: CIPIC_hrtf_database/standard_hrir_database/subject_158/\n",
            "  inflating: CIPIC_hrtf_database/standard_hrir_database/subject_158/hrir_final.mat  \n",
            "   creating: CIPIC_hrtf_database/standard_hrir_database/subject_162/\n",
            "  inflating: CIPIC_hrtf_database/standard_hrir_database/subject_162/hrir_final.mat  \n",
            "   creating: CIPIC_hrtf_database/standard_hrir_database/subject_163/\n",
            "  inflating: CIPIC_hrtf_database/standard_hrir_database/subject_163/hrir_final.mat  \n",
            "   creating: CIPIC_hrtf_database/standard_hrir_database/subject_165/\n",
            "  inflating: CIPIC_hrtf_database/standard_hrir_database/subject_165/hrir_final.mat  \n",
            "   creating: CIPIC_hrtf_database/standard_hrir_database/show_data/\n",
            "  inflating: CIPIC_hrtf_database/standard_hrir_database/show_data/blink_load_data.m  \n",
            "  inflating: CIPIC_hrtf_database/standard_hrir_database/show_data/check_sound.m  \n",
            "  inflating: CIPIC_hrtf_database/standard_hrir_database/show_data/cb_el.m  \n",
            "  inflating: CIPIC_hrtf_database/standard_hrir_database/show_data/hrtf_display.m  \n",
            "  inflating: CIPIC_hrtf_database/standard_hrir_database/show_data/hrtf_display.mat  \n",
            "  inflating: CIPIC_hrtf_database/standard_hrir_database/show_data/cb_resolution.m  \n",
            "  inflating: CIPIC_hrtf_database/standard_hrir_database/show_data/cb_play_el.m  \n",
            "  inflating: CIPIC_hrtf_database/standard_hrir_database/show_data/cb_next_el.m  \n",
            "  inflating: CIPIC_hrtf_database/standard_hrir_database/show_data/cb_az.m  \n",
            "  inflating: CIPIC_hrtf_database/standard_hrir_database/show_data/cb_subject.m  \n",
            "  inflating: CIPIC_hrtf_database/standard_hrir_database/show_data/cb_smooth.m  \n",
            "  inflating: CIPIC_hrtf_database/standard_hrir_database/show_data/play_sound_array.m  \n",
            "  inflating: CIPIC_hrtf_database/standard_hrir_database/show_data/play_stimulus.m  \n",
            "  inflating: CIPIC_hrtf_database/standard_hrir_database/show_data/plot_data.m  \n",
            "  inflating: CIPIC_hrtf_database/standard_hrir_database/show_data/cb_prev_az.m  \n",
            "  inflating: CIPIC_hrtf_database/standard_hrir_database/show_data/hsmooth.m  \n",
            "  inflating: CIPIC_hrtf_database/standard_hrir_database/show_data/cb_prev_el.m  \n",
            "  inflating: CIPIC_hrtf_database/standard_hrir_database/show_data/cb_play_cone.m  \n",
            "  inflating: CIPIC_hrtf_database/standard_hrir_database/show_data/show_data.m  \n",
            "  inflating: CIPIC_hrtf_database/standard_hrir_database/show_data/stimulus.m  \n",
            "  inflating: CIPIC_hrtf_database/standard_hrir_database/show_data/version_number.m  \n",
            "  inflating: CIPIC_hrtf_database/standard_hrir_database/show_data/cb_next_az.m  \n",
            "  inflating: CIPIC_hrtf_database/standard_hrir_database/show_data/cb_scale.m  \n",
            "  inflating: CIPIC_hrtf_database/standard_hrir_database/show_data/cycshift.m  \n",
            "  inflating: CIPIC_hrtf_database/standard_hrir_database/show_data/subject_numbers.m  \n",
            "  inflating: CIPIC_hrtf_database/standard_hrir_database/show_data/freq_resp.m  \n",
            "  inflating: CIPIC_hrtf_database/standard_hrir_database/show_data/show_datam.m  \n",
            "  inflating: CIPIC_hrtf_database/standard_hrir_database/show_data/cb_load_file.m  \n",
            "  inflating: CIPIC_hrtf_database/standard_hrir_database/show_data/hor_show_data.m  \n",
            "  inflating: CIPIC_hrtf_database/standard_hrir_database/show_data/hor_plot_data.m  \n",
            "  inflating: CIPIC_hrtf_database/standard_hrir_database/show_data/hor_hrtf_display.m  \n",
            "  inflating: CIPIC_hrtf_database/standard_hrir_database/show_data/hor_hrtf_display.mat  \n",
            "  inflating: CIPIC_hrtf_database/standard_hrir_database/show_data/hor_show_datam.m  \n",
            "  inflating: CIPIC_hrtf_database/standard_hrir_database/show_data/hor_cb_play_hor.m  \n",
            "  inflating: CIPIC_hrtf_database/standard_hrir_database/show_data/interp_hrir.m  \n",
            "  inflating: CIPIC_hrtf_database/standard_hrir_database/show_data/hor_cb_subject.m  \n",
            "  inflating: CIPIC_hrtf_database/standard_hrir_database/show_data/timealign.m  \n",
            "  inflating: CIPIC_hrtf_database/standard_hrir_database/show_data/hor_cb_load_file.m  \n",
            "  inflating: CIPIC_hrtf_database/standard_hrir_database/show_data/delaysinc.m  \n",
            "  inflating: CIPIC_hrtf_database/standard_hrir_database/show_data/imagesc_up.m  \n",
            "  inflating: CIPIC_hrtf_database/standard_hrir_database/show_data/read_me.txt  \n",
            "  inflating: CIPIC_hrtf_database/standard_hrir_database/show_data/sub_nums.m  \n",
            "Archive:  ear.zip\n",
            "   creating: binural-updates/\n",
            "  inflating: binural-updates/.DS_Store  \n",
            "   creating: binural-updates/ear_photos/\n",
            "  inflating: binural-updates/ear_photos/reqdme.txt  \n",
            "   creating: binural-updates/ear_photos/Subject_001/\n",
            "  inflating: binural-updates/ear_photos/Subject_001/001_right_rear.jpg  \n",
            "  inflating: binural-updates/ear_photos/Subject_001/001_right_side.jpg  \n",
            "   creating: binural-updates/ear_photos/Subject_003/\n",
            "  inflating: binural-updates/ear_photos/Subject_003/003_right_rear.jpg  \n",
            "  inflating: binural-updates/ear_photos/Subject_003/003_right_side.jpg  \n",
            "   creating: binural-updates/ear_photos/Subject_008/\n",
            "  inflating: binural-updates/ear_photos/Subject_008/008_left_rear.jpg  \n",
            "  inflating: binural-updates/ear_photos/Subject_008/008_left_side.jpg  \n",
            "   creating: binural-updates/ear_photos/Subject_009/\n",
            "  inflating: binural-updates/ear_photos/Subject_009/009_left_rear.jpg  \n",
            "  inflating: binural-updates/ear_photos/Subject_009/009_left_side.jpg  \n",
            "   creating: binural-updates/ear_photos/Subject_010/\n",
            "  inflating: binural-updates/ear_photos/Subject_010/0010_back.jpg  \n",
            "  inflating: binural-updates/ear_photos/Subject_010/0010_left.jpg  \n",
            "   creating: binural-updates/ear_photos/Subject_011/\n",
            "  inflating: binural-updates/ear_photos/Subject_011/011_right_rear.jpg  \n",
            "  inflating: binural-updates/ear_photos/Subject_011/011_right_side.jpg  \n",
            "   creating: binural-updates/ear_photos/Subject_012/\n",
            "  inflating: binural-updates/ear_photos/Subject_012/012_right_rear.jpg  \n",
            "  inflating: binural-updates/ear_photos/Subject_012/012_right_side.jpg  \n",
            "   creating: binural-updates/ear_photos/Subject_013/\n",
            "  inflating: binural-updates/ear_photos/Subject_013/013_left_rear.jpg  \n",
            "  inflating: binural-updates/ear_photos/Subject_013/013_left_side.jpg  \n",
            "   creating: binural-updates/ear_photos/Subject_014/\n",
            "  inflating: binural-updates/ear_photos/Subject_014/014_left_side.jpg  \n",
            "  inflating: binural-updates/ear_photos/Subject_014/014_right_rear.jpg  \n",
            "   creating: binural-updates/ear_photos/Subject_015/\n",
            "  inflating: binural-updates/ear_photos/Subject_015/0015_back.jpg  \n",
            "  inflating: binural-updates/ear_photos/Subject_015/0015_left.JPG  \n",
            "   creating: binural-updates/ear_photos/Subject_017/\n",
            "  inflating: binural-updates/ear_photos/Subject_017/0017_right.jpg  \n",
            "   creating: binural-updates/ear_photos/Subject_018/\n",
            "  inflating: binural-updates/ear_photos/Subject_018/Subject_018_left_rear.jpg  \n",
            "  inflating: binural-updates/ear_photos/Subject_018/Subject_018_left_side.jpg  \n",
            "   creating: binural-updates/ear_photos/Subject_019/\n",
            "  inflating: binural-updates/ear_photos/Subject_019/019_left_rear.jpg  \n",
            "  inflating: binural-updates/ear_photos/Subject_019/019_left_side.jpg  \n",
            "   creating: binural-updates/ear_photos/Subject_020/\n",
            "  inflating: binural-updates/ear_photos/Subject_020/0020_left.jpg  \n",
            "   creating: binural-updates/ear_photos/Subject_021/\n",
            "  inflating: binural-updates/ear_photos/Subject_021/0021_left.jpg  \n",
            "  inflating: binural-updates/ear_photos/Subject_021/0021_right.jpg  \n",
            "   creating: binural-updates/ear_photos/Subject_027/\n",
            "  inflating: binural-updates/ear_photos/Subject_027/0027_back.jpg  \n",
            "  inflating: binural-updates/ear_photos/Subject_027/0027_left.jpg  \n",
            "   creating: binural-updates/ear_photos/Subject_028/\n",
            "  inflating: binural-updates/ear_photos/Subject_028/0028_left_1.jpg  \n",
            "  inflating: binural-updates/ear_photos/Subject_028/0028_left_2.jpg  \n",
            "   creating: binural-updates/ear_photos/Subject_033/\n",
            "  inflating: binural-updates/ear_photos/Subject_033/0033_left.jpg  \n",
            "   creating: binural-updates/ear_photos/Subject_040/\n",
            "  inflating: binural-updates/ear_photos/Subject_040/0040_left.jpg  \n",
            "   creating: binural-updates/ear_photos/Subject_044/\n",
            "  inflating: binural-updates/ear_photos/Subject_044/0044_left.jpg  \n",
            "   creating: binural-updates/ear_photos/Subject_048/\n",
            "  inflating: binural-updates/ear_photos/Subject_048/0048_left.jpg  \n",
            "   creating: binural-updates/ear_photos/Subject_050/\n",
            "  inflating: binural-updates/ear_photos/Subject_050/0050_left.jpg  \n",
            "   creating: binural-updates/ear_photos/Subject_051/\n",
            "  inflating: binural-updates/ear_photos/Subject_051/0051_left.jpg  \n",
            "   creating: binural-updates/ear_photos/Subject_058/\n",
            "  inflating: binural-updates/ear_photos/Subject_058/0058_left.jpg  \n",
            "   creating: binural-updates/ear_photos/Subject_059/\n",
            "  inflating: binural-updates/ear_photos/Subject_059/0058_left.jpg  \n",
            "  inflating: binural-updates/ear_photos/Subject_059/0059_back.jpg  \n",
            "   creating: binural-updates/ear_photos/Subject_060/\n",
            "  inflating: binural-updates/ear_photos/Subject_060/0060_back.jpg  \n",
            "  inflating: binural-updates/ear_photos/Subject_060/0060_left.jpg  \n",
            "   creating: binural-updates/ear_photos/Subject_061/\n",
            "  inflating: binural-updates/ear_photos/Subject_061/0061_back.jpg  \n",
            "  inflating: binural-updates/ear_photos/Subject_061/0061_left.jpg  \n",
            "   creating: binural-updates/ear_photos/Subject_065/\n",
            "  inflating: binural-updates/ear_photos/Subject_065/0065_back.jpg  \n",
            "  inflating: binural-updates/ear_photos/Subject_065/0065_left.jpg  \n",
            "   creating: binural-updates/ear_photos/Subject_119/\n",
            "  inflating: binural-updates/ear_photos/Subject_119/0119_back.jpg  \n",
            "  inflating: binural-updates/ear_photos/Subject_119/0119_left.jpg  \n",
            "  inflating: binural-updates/ear_photos/Subject_119/0119_right.jpg  \n",
            "   creating: binural-updates/ear_photos/Subject_124/\n",
            "  inflating: binural-updates/ear_photos/Subject_124/0124_back.jpg  \n",
            "  inflating: binural-updates/ear_photos/Subject_124/0124_left.jpg  \n",
            "  inflating: binural-updates/ear_photos/Subject_124/0124_right.jpg  \n",
            "   creating: binural-updates/ear_photos/Subject_127/\n",
            "  inflating: binural-updates/ear_photos/Subject_127/0127_back.jpg  \n",
            "  inflating: binural-updates/ear_photos/Subject_127/0127_left.jpg  \n",
            "   creating: binural-updates/ear_photos/Subject_129/\n",
            "  inflating: binural-updates/ear_photos/Subject_129/0129_back.jpg  \n",
            "  inflating: binural-updates/ear_photos/Subject_129/0129_left.jpg  \n",
            "   creating: binural-updates/ear_photos/Subject_133/\n",
            "  inflating: binural-updates/ear_photos/Subject_133/0133_back.jpg  \n",
            "  inflating: binural-updates/ear_photos/Subject_133/0133_left.jpg  \n",
            "   creating: binural-updates/ear_photos/Subject_134/\n",
            "  inflating: binural-updates/ear_photos/Subject_134/0134_back.jpg  \n",
            "  inflating: binural-updates/ear_photos/Subject_134/0134_left.jpg  \n",
            "   creating: binural-updates/ear_photos/Subject_135/\n",
            "  inflating: binural-updates/ear_photos/Subject_135/0135_back.jpg  \n",
            "  inflating: binural-updates/ear_photos/Subject_135/0135_left.jpg  \n",
            "   creating: binural-updates/ear_photos/Subject_137/\n",
            "  inflating: binural-updates/ear_photos/Subject_137/0137_back.jpg  \n",
            "  inflating: binural-updates/ear_photos/Subject_137/0137_left.jpg  \n",
            "   creating: binural-updates/ear_photos/Subject_138/\n",
            "  inflating: binural-updates/ear_photos/Subject_138/0138_back.jpg  \n",
            "  inflating: binural-updates/ear_photos/Subject_138/0138_left.jpg  \n",
            "   creating: binural-updates/ear_photos/Subject_147/\n",
            "  inflating: binural-updates/ear_photos/Subject_147/0147_back.jpg  \n",
            "  inflating: binural-updates/ear_photos/Subject_147/0147_left.jpg  \n",
            "  inflating: binural-updates/ear_photos/Subject_147/0147_right.jpg  \n",
            "   creating: binural-updates/ear_photos/Subject_148/\n",
            "  inflating: binural-updates/ear_photos/Subject_148/0148_back.jpg  \n",
            "  inflating: binural-updates/ear_photos/Subject_148/0148_left.jpg  \n",
            "  inflating: binural-updates/ear_photos/Subject_148/0148_right.jpg  \n",
            "   creating: binural-updates/ear_photos/Subject_152/\n",
            "  inflating: binural-updates/ear_photos/Subject_152/0152_left.jpg  \n",
            "  inflating: binural-updates/ear_photos/Subject_152/0152_rear.jpg  \n",
            "   creating: binural-updates/ear_photos/Subject_154/\n",
            "  inflating: binural-updates/ear_photos/Subject_154/0154_left.jpg  \n",
            "  inflating: binural-updates/ear_photos/Subject_154/0154_rear.jpg  \n",
            "   creating: binural-updates/ear_photos/Subject_155/\n",
            "  inflating: binural-updates/ear_photos/Subject_155/0155_left.jpg  \n",
            "  inflating: binural-updates/ear_photos/Subject_155/0155_rear.jpg  \n",
            "   creating: binural-updates/ear_photos/Subject_156/\n",
            "  inflating: binural-updates/ear_photos/Subject_156/0156_left.jpg  \n",
            "  inflating: binural-updates/ear_photos/Subject_156/0156_rear.jpg  \n",
            "   creating: binural-updates/ear_photos/Subject_158/\n",
            "  inflating: binural-updates/ear_photos/Subject_158/0158_back.jpg  \n",
            "  inflating: binural-updates/ear_photos/Subject_158/0158_left.jpg  \n",
            "   creating: binural-updates/ear_photos/Subject_162/\n",
            "  inflating: binural-updates/ear_photos/Subject_162/0162_left.jpg  \n",
            "  inflating: binural-updates/ear_photos/Subject_162/0162_rear.jpg  \n",
            "   creating: binural-updates/ear_photos/Subject_163/\n",
            "  inflating: binural-updates/ear_photos/Subject_163/0163_left.jpg  \n",
            "  inflating: binural-updates/ear_photos/Subject_163/0163_right.jpg  \n",
            "  inflating: binural-updates/read_me.txt  \n",
            "   creating: binural-updates/show_data/\n",
            "  inflating: binural-updates/show_data/blink_load_data.m  \n",
            "  inflating: binural-updates/show_data/cb_az.m  \n",
            "  inflating: binural-updates/show_data/cb_el.m  \n",
            "  inflating: binural-updates/show_data/cb_load_file.m  \n",
            "  inflating: binural-updates/show_data/cb_next_az.m  \n",
            "  inflating: binural-updates/show_data/cb_next_el.m  \n",
            "  inflating: binural-updates/show_data/cb_play_cone.m  \n",
            "  inflating: binural-updates/show_data/cb_play_el.m  \n",
            "  inflating: binural-updates/show_data/cb_prev_az.m  \n",
            "  inflating: binural-updates/show_data/cb_prev_el.m  \n",
            "  inflating: binural-updates/show_data/cb_resolution.m  \n",
            "  inflating: binural-updates/show_data/cb_scale.m  \n",
            "  inflating: binural-updates/show_data/cb_smooth.m  \n",
            "  inflating: binural-updates/show_data/cb_subject.m  \n",
            "  inflating: binural-updates/show_data/check_sound.m  \n",
            "  inflating: binural-updates/show_data/cycshift.m  \n",
            "  inflating: binural-updates/show_data/delaysinc.m  \n",
            "  inflating: binural-updates/show_data/freq_resp.m  \n",
            "  inflating: binural-updates/show_data/hor_cb_load_file.m  \n",
            "  inflating: binural-updates/show_data/hor_cb_play_hor.m  \n",
            "  inflating: binural-updates/show_data/hor_cb_subject.m  \n",
            "  inflating: binural-updates/show_data/hor_hrtf_display.m  \n",
            "  inflating: binural-updates/show_data/hor_hrtf_display.mat  \n",
            "  inflating: binural-updates/show_data/hor_plot_data.m  \n",
            "  inflating: binural-updates/show_data/hor_show_data.m  \n",
            "  inflating: binural-updates/show_data/hor_show_datam.m  \n",
            "  inflating: binural-updates/show_data/hrtf_display.m  \n",
            "  inflating: binural-updates/show_data/hrtf_display.mat  \n",
            "  inflating: binural-updates/show_data/hsmooth.m  \n",
            "  inflating: binural-updates/show_data/imagesc_up.m  \n",
            "  inflating: binural-updates/show_data/interp_hrir.m  \n",
            "  inflating: binural-updates/show_data/play_sound_array.m  \n",
            "  inflating: binural-updates/show_data/play_stimulus.m  \n",
            "  inflating: binural-updates/show_data/plot_data.m  \n",
            "  inflating: binural-updates/show_data/read_me.txt  \n",
            "  inflating: binural-updates/show_data/show_data.m  \n",
            "  inflating: binural-updates/show_data/show_datam.m  \n",
            "  inflating: binural-updates/show_data/stimulus.m  \n",
            "  inflating: binural-updates/show_data/sub_nums.m  \n",
            "  inflating: binural-updates/show_data/subject_numbers.m  \n",
            "  inflating: binural-updates/show_data/timealign.m  \n",
            "  inflating: binural-updates/show_data/version_number.m  \n",
            "  inflating: binural-updates/Untitled 1.doc  \n"
          ],
          "name": "stdout"
        }
      ]
    },
    {
      "metadata": {
        "id": "kjKm43sfgnP_",
        "colab_type": "code",
        "colab": {
          "base_uri": "https://localhost:8080/",
          "height": 34
        },
        "outputId": "c748c8fb-52b0-46c1-847e-e30fea353dcf"
      },
      "cell_type": "code",
      "source": [
        "!ls utils"
      ],
      "execution_count": 12,
      "outputs": [
        {
          "output_type": "stream",
          "text": [
            "hrtf.py  image_utils.py\n"
          ],
          "name": "stdout"
        }
      ]
    },
    {
      "metadata": {
        "id": "TSJOo9GUgQiO",
        "colab_type": "text"
      },
      "cell_type": "markdown",
      "source": [
        "##Load Data"
      ]
    },
    {
      "metadata": {
        "id": "uaLeg-2HdM5m",
        "colab_type": "code",
        "colab": {}
      },
      "cell_type": "code",
      "source": [
        "import os\n",
        "import sys\n",
        "import scipy.io\n",
        "import scipy.signal\n",
        "import logging\n",
        "import numpy as np\n",
        "import matplotlib.pyplot as plt\n",
        "import cv2\n",
        "from utils.hrtf import *\n",
        "from utils.image_utils import *"
      ],
      "execution_count": 0,
      "outputs": []
    },
    {
      "metadata": {
        "id": "3GR4zQqMdOWM",
        "colab_type": "code",
        "colab": {}
      },
      "cell_type": "code",
      "source": [
        "hrtf = CipicHRTF('data/cipic_hrtf_sofa/subject_003.sofa', 44100.0)"
      ],
      "execution_count": 0,
      "outputs": []
    },
    {
      "metadata": {
        "id": "Y3l4CL4hdoXE",
        "colab_type": "code",
        "colab": {
          "base_uri": "https://localhost:8080/",
          "height": 34
        },
        "outputId": "1750c257-8e35-47ed-b7a1-d338a5814966"
      },
      "cell_type": "code",
      "source": [
        "print(hrtf.azimuths)"
      ],
      "execution_count": 15,
      "outputs": [
        {
          "output_type": "stream",
          "text": [
            "[ 80.  80.  80. ... -80. -80. -80.]\n"
          ],
          "name": "stdout"
        }
      ]
    },
    {
      "metadata": {
        "id": "uqYnoEK3g-Ri",
        "colab_type": "code",
        "colab": {}
      },
      "cell_type": "code",
      "source": [
        "# get pinnas\n",
        "pinnas = np.array(scipy.io.loadmat('./data/CIPIC_hrtf_database/anthropometry/anthro.mat')['X'])"
      ],
      "execution_count": 0,
      "outputs": []
    },
    {
      "metadata": {
        "id": "dGQBxMyTnCEG",
        "colab_type": "code",
        "colab": {}
      },
      "cell_type": "code",
      "source": [
        "def get_image(folder, num):\n",
        "    num_str = str(num)\n",
        "    if num < 100:\n",
        "        num_str = '0' + num_str\n",
        "    if num < 10:\n",
        "        num_str = '0' + num_str\n",
        "    num = num_str\n",
        "    try:\n",
        "        return plt.imread(folder+ 'Subject_'+str(num)+'/'+str(num)+'_left_side.jpg'), 0\n",
        "    except:\n",
        "        try:\n",
        "            return plt.imread(folder+ 'Subject_'+str(num)+'/'+str(num)+'_right_side.jpg'), 1\n",
        "        except:\n",
        "            try:\n",
        "                return plt.imread(folder+ 'Subject_'+str(num)+'/0'+str(num)+'_left.jpg'), 0\n",
        "            except:\n",
        "                try:\n",
        "                    return plt.imread(folder+ 'Subject_'+str(num)+'/0'+str(num)+'_right.jpg'), 1\n",
        "                except:\n",
        "                    try:\n",
        "                        return plt.imread(folder+ 'Subject_'+str(num)+'/0'+str(num)+'_left.JPG'), 0\n",
        "                    except:\n",
        "                        try:\n",
        "                            return plt.imread(folder+ 'Subject_'+str(num)+'/0'+str(num)+'_right.JPG'), 1\n",
        "                        except:\n",
        "                            try:\n",
        "                                return plt.imread(folder+ 'Subject_'+str(num)+'/Subject_'+str(num)+'_left_side.jpg'), 0\n",
        "                            except:\n",
        "                                try:\n",
        "                                    return plt.imread(folder+ 'Subject_'+str(num)+'/0'+str(num)+'_left_2.jpg'), 0\n",
        "                                except:\n",
        "                                    return plt.imread(folder+ 'Subject_'+str(num)+'/00'+str(58)+'_left.jpg'), 0"
      ],
      "execution_count": 0,
      "outputs": []
    },
    {
      "metadata": {
        "id": "Gh4oRuT9e4bM",
        "colab_type": "code",
        "colab": {
          "base_uri": "https://localhost:8080/",
          "height": 153
        },
        "outputId": "deae8bbe-9bb9-4ac5-c102-2c9e00587ba8"
      },
      "cell_type": "code",
      "source": [
        "valid_ranges = []\n",
        "valid_images = []\n",
        "valid_final = []\n",
        "valid_image_ranges = []\n",
        "for i in range(200):\n",
        "    try:\n",
        "        get_hrtf_sofa('data/cipic_hrtf_sofa/', i)\n",
        "        valid_ranges.append(i)\n",
        "        try:\n",
        "            img, ear_num = get_image('data/ear_photos/', i)\n",
        "            valid_images.append(img)\n",
        "            valid_image_ranges.append((i, ear_num))\n",
        "        except FileNotFoundError as err:\n",
        "            print(err)\n",
        "            print('Image not Found', i)\n",
        "            valid_images.append(None)\n",
        "            valid_image_ranges.append(None)\n",
        "    except:\n",
        "        pass\n",
        "#         print('Failed to load sofa', i)\n",
        "valid_image_ranges = np.array(valid_image_ranges)"
      ],
      "execution_count": 18,
      "outputs": [
        {
          "output_type": "stream",
          "text": [
            "[Errno 2] No such file or directory: 'data/ear_photos/Subject_126/0058_left.jpg'\n",
            "Image not Found 126\n",
            "[Errno 2] No such file or directory: 'data/ear_photos/Subject_131/0058_left.jpg'\n",
            "Image not Found 131\n",
            "[Errno 2] No such file or directory: 'data/ear_photos/Subject_153/0058_left.jpg'\n",
            "Image not Found 153\n",
            "[Errno 2] No such file or directory: 'data/ear_photos/Subject_165/0058_left.jpg'\n",
            "Image not Found 165\n"
          ],
          "name": "stdout"
        }
      ]
    },
    {
      "metadata": {
        "id": "rSHnXrXYhHIg",
        "colab_type": "code",
        "colab": {
          "base_uri": "https://localhost:8080/",
          "height": 85
        },
        "outputId": "fa5f5219-c4fa-4f5f-e78f-30d10bf7880b"
      },
      "cell_type": "code",
      "source": [
        "pinna_vals = [pinnas[i] for i, val in enumerate(valid_ranges)]\n",
        "print(len(valid_ranges))\n",
        "print(len(pinna_vals))\n",
        "print(len(valid_images))\n",
        "print(len(valid_image_ranges))"
      ],
      "execution_count": 19,
      "outputs": [
        {
          "output_type": "stream",
          "text": [
            "45\n",
            "45\n",
            "45\n",
            "45\n"
          ],
          "name": "stdout"
        }
      ]
    },
    {
      "metadata": {
        "id": "ZG6kzKh7jIeu",
        "colab_type": "code",
        "colab": {
          "base_uri": "https://localhost:8080/",
          "height": 102
        },
        "outputId": "14bf928c-6111-46d4-8da1-63aec62cf186"
      },
      "cell_type": "code",
      "source": [
        "print(valid_image_ranges)"
      ],
      "execution_count": 20,
      "outputs": [
        {
          "output_type": "stream",
          "text": [
            "[(3, 1) (8, 0) (9, 0) (10, 0) (11, 1) (12, 1) (15, 0) (17, 1) (18, 0)\n",
            " (19, 0) (20, 0) (21, 0) (27, 0) (28, 0) (33, 0) (40, 0) (44, 0) (48, 0)\n",
            " (50, 0) (51, 0) (58, 0) (59, 0) (60, 0) (61, 0) (65, 0) (119, 0) (124, 0)\n",
            " None (127, 0) None (133, 0) (134, 0) (135, 0) (137, 0) (147, 0) (148, 0)\n",
            " (152, 0) None (154, 0) (155, 0) (156, 0) (158, 0) (162, 0) (163, 0) None]\n"
          ],
          "name": "stdout"
        }
      ]
    },
    {
      "metadata": {
        "id": "dRH-VEp9h7yc",
        "colab_type": "code",
        "colab": {}
      },
      "cell_type": "code",
      "source": [
        "valid_final = np.array(valid_ranges)[~np.isnan(pinna_vals).any(axis=1)]\n",
        "valid_images = np.array(valid_images)[~np.isnan(pinna_vals).any(axis=1)]\n",
        "valid_image_ranges = np.array(valid_image_ranges)[~np.isnan(pinna_vals).any(axis=1)]\n",
        "pinna_vals = np.array(pinna_vals)[~np.isnan(pinna_vals).any(axis=1)]"
      ],
      "execution_count": 0,
      "outputs": []
    },
    {
      "metadata": {
        "id": "R1Ftyu9ViAl0",
        "colab_type": "code",
        "colab": {
          "base_uri": "https://localhost:8080/",
          "height": 85
        },
        "outputId": "1af44332-7431-4b7d-e098-dc32a907954d"
      },
      "cell_type": "code",
      "source": [
        "print(len(valid_final))\n",
        "print(len(valid_images))\n",
        "print(len(valid_image_ranges))\n",
        "print(len(pinna_vals))"
      ],
      "execution_count": 22,
      "outputs": [
        {
          "output_type": "stream",
          "text": [
            "35\n",
            "35\n",
            "35\n",
            "35\n"
          ],
          "name": "stdout"
        }
      ]
    },
    {
      "metadata": {
        "id": "GV8qhQKVi_Ea",
        "colab_type": "code",
        "colab": {
          "base_uri": "https://localhost:8080/",
          "height": 119
        },
        "outputId": "34e3e594-63ec-4e7a-99a2-cffa524c997e"
      },
      "cell_type": "code",
      "source": [
        "print(valid_final)\n",
        "print(valid_image_ranges)"
      ],
      "execution_count": 23,
      "outputs": [
        {
          "output_type": "stream",
          "text": [
            "[  3  10  18  20  27  28  33  40  44  48  50  51  58  59  60  61  65 119\n",
            " 124 126 127 131 133 134 135 137 147 148 152 153 154 155 156 162 163]\n",
            "[(3, 1) (10, 0) (18, 0) (20, 0) (27, 0) (28, 0) (33, 0) (40, 0) (44, 0)\n",
            " (48, 0) (50, 0) (51, 0) (58, 0) (59, 0) (60, 0) (61, 0) (65, 0) (119, 0)\n",
            " (124, 0) None (127, 0) None (133, 0) (134, 0) (135, 0) (137, 0) (147, 0)\n",
            " (148, 0) (152, 0) None (154, 0) (155, 0) (156, 0) (162, 0) (163, 0)]\n"
          ],
          "name": "stdout"
        }
      ]
    },
    {
      "metadata": {
        "id": "fpKG1M8aiC3o",
        "colab_type": "code",
        "colab": {}
      },
      "cell_type": "code",
      "source": [
        "valid_images = [valid_images[idx] for idx, val in enumerate(valid_image_ranges) if val is not None]\n",
        "pinna_vals = [pinna_vals[idx] for idx, val in enumerate(valid_image_ranges) if val is not None]\n",
        "valid_image_ranges = [valid_image_ranges[idx] for idx, val in enumerate(valid_image_ranges) if val is not None]"
      ],
      "execution_count": 0,
      "outputs": []
    },
    {
      "metadata": {
        "id": "U9ZbFMuKikpY",
        "colab_type": "code",
        "colab": {
          "base_uri": "https://localhost:8080/",
          "height": 85
        },
        "outputId": "5bdec232-15d9-4801-ad42-18adf51ca84e"
      },
      "cell_type": "code",
      "source": [
        "print(len(valid_final))\n",
        "print(len(valid_images))\n",
        "print(len(valid_image_ranges))\n",
        "print(len(pinna_vals))"
      ],
      "execution_count": 25,
      "outputs": [
        {
          "output_type": "stream",
          "text": [
            "35\n",
            "32\n",
            "32\n",
            "32\n"
          ],
          "name": "stdout"
        }
      ]
    },
    {
      "metadata": {
        "id": "MJnjplmqiFwT",
        "colab_type": "code",
        "colab": {}
      },
      "cell_type": "code",
      "source": [
        "impulse_vals = []\n",
        "for i, ear in valid_image_ranges:\n",
        "    impulse_vals.append(get_hrtf_sofa('data/cipic_hrtf_sofa/', i).impulses[:,ear,:])\n",
        "\n",
        "\n"
      ],
      "execution_count": 0,
      "outputs": []
    },
    {
      "metadata": {
        "id": "-MTWK832ialL",
        "colab_type": "code",
        "colab": {
          "base_uri": "https://localhost:8080/",
          "height": 6562
        },
        "outputId": "18fdc787-b3a5-485c-8928-669747bb9731"
      },
      "cell_type": "code",
      "source": [
        "print(impulse_vals)"
      ],
      "execution_count": 27,
      "outputs": [
        {
          "output_type": "stream",
          "text": [
            "[array([[-3.11876001e-08,  5.98625888e-07, -3.89598108e-06, ...,\n",
            "         5.40740803e-05,  2.62411268e-05,  1.30509452e-05],\n",
            "       [ 8.10463092e-08,  2.48493155e-08, -1.94965401e-06, ...,\n",
            "         4.63810684e-05,  2.31343438e-05,  1.09934390e-05],\n",
            "       [-3.85420407e-07,  2.28353770e-06, -1.02743006e-05, ...,\n",
            "         4.81433999e-05,  2.44446237e-05,  1.10324254e-05],\n",
            "       ...,\n",
            "       [ 1.91937399e-08,  5.05269725e-07, -4.96465736e-06, ...,\n",
            "        -1.03461589e-05, -9.98788455e-05, -5.36835614e-05],\n",
            "       [ 3.74974547e-07, -1.17730247e-06,  2.28979980e-06, ...,\n",
            "        -1.99679998e-05, -9.76560477e-05, -5.94681587e-05],\n",
            "       [ 3.98153617e-07, -1.55144085e-06,  5.02310695e-06, ...,\n",
            "        -1.43624884e-05, -9.69239481e-05, -5.13568266e-05]]), array([[ 3.27283658e-07, -9.55512178e-07,  4.88718479e-06, ...,\n",
            "         1.71716920e-06, -3.08660892e-05, -8.58329986e-06],\n",
            "       [ 3.22508491e-08,  3.10583573e-07,  9.96497306e-07, ...,\n",
            "         1.18031335e-06, -3.33155003e-05, -8.86985890e-06],\n",
            "       [ 6.19180724e-08, -6.73469316e-08,  1.83471855e-06, ...,\n",
            "        -7.86067801e-07, -3.44702530e-05, -8.58136355e-06],\n",
            "       ...,\n",
            "       [-3.50864369e-08, -1.96374206e-09, -4.64299137e-06, ...,\n",
            "         2.92736731e-05,  1.64337944e-05,  8.84109613e-06],\n",
            "       [-3.29602230e-08,  1.70051280e-07, -2.31862123e-06, ...,\n",
            "         3.26264417e-05,  1.89468956e-05,  1.00948118e-05],\n",
            "       [-6.98189453e-08,  1.69184673e-07, -5.32442129e-07, ...,\n",
            "         3.41609993e-05,  2.11925089e-05,  1.15631656e-05]]), array([[ 1.19617383e-07, -7.87007703e-09, -8.48147863e-07, ...,\n",
            "        -1.53993664e-04, -1.00579768e-04, -7.70471015e-05],\n",
            "       [ 4.65326515e-08,  4.48997639e-07, -2.99863177e-06, ...,\n",
            "        -1.33044377e-04, -8.75075639e-05, -6.99280208e-05],\n",
            "       [ 3.09727461e-08,  4.23940776e-07, -2.62589720e-06, ...,\n",
            "        -1.33852998e-04, -8.44235110e-05, -6.83758481e-05],\n",
            "       ...,\n",
            "       [ 2.20296243e-07, -6.13254826e-07, -6.22338712e-06, ...,\n",
            "         5.17634107e-05,  3.39306971e-05,  1.42671470e-05],\n",
            "       [-4.36197993e-08,  1.14452632e-06, -1.03249513e-05, ...,\n",
            "         6.16158577e-05,  3.83769438e-05,  1.77991642e-05],\n",
            "       [ 6.26040219e-07, -1.78685514e-06, -3.42630671e-07, ...,\n",
            "         5.70107550e-05,  3.62032697e-05,  1.70647090e-05]]), array([[-3.39735244e-08,  4.96218718e-07, -2.15102887e-06, ...,\n",
            "        -5.63639514e-05, -7.03729020e-05, -1.73106109e-05],\n",
            "       [-1.13487761e-08,  3.35171279e-07, -1.48998788e-06, ...,\n",
            "        -5.24826246e-05, -6.93259135e-05, -1.98971793e-05],\n",
            "       [-5.69710572e-08,  6.38642462e-07, -2.86526574e-06, ...,\n",
            "        -5.20306457e-05, -6.54805990e-05, -1.85857207e-05],\n",
            "       ...,\n",
            "       [ 1.84453288e-08,  1.50097293e-07, -8.22250229e-07, ...,\n",
            "         1.39131880e-04,  1.05940955e-04,  7.20847893e-05],\n",
            "       [ 5.71120395e-08, -1.09935661e-08, -2.06913313e-07, ...,\n",
            "         1.30418004e-04,  9.54340430e-05,  6.16307007e-05],\n",
            "       [ 3.70581681e-08, -1.22875159e-08, -1.30325773e-07, ...,\n",
            "         1.40585937e-04,  1.01266567e-04,  6.57892306e-05]]), array([[-3.61347707e-09,  1.43791013e-07, -9.25799725e-07, ...,\n",
            "        -3.24999860e-06, -2.65508443e-05, -6.72803144e-05],\n",
            "       [ 2.11642792e-09,  3.66343933e-08, -2.11193893e-07, ...,\n",
            "        -1.56854651e-06, -3.63022082e-05, -6.79991499e-05],\n",
            "       [ 2.27531949e-08,  1.69414633e-08, -1.25128267e-07, ...,\n",
            "        -1.37969037e-05, -2.71544468e-05, -6.38343990e-05],\n",
            "       ...,\n",
            "       [ 1.76644033e-08,  7.99774540e-08, -2.46218946e-07, ...,\n",
            "         1.07409418e-04,  7.29608873e-05,  4.79010305e-05],\n",
            "       [ 4.85176734e-08,  4.38621193e-08, -8.07766355e-07, ...,\n",
            "         1.09905021e-04,  7.44983117e-05,  4.98396148e-05],\n",
            "       [ 3.36453687e-09,  6.25121857e-08, -4.49740014e-08, ...,\n",
            "         1.06123189e-04,  7.16836148e-05,  4.85882738e-05]]), array([[ 5.00692579e-07, -1.30853732e-06,  4.63307106e-06, ...,\n",
            "        -1.17804309e-04,  2.24752876e-06, -8.23510891e-06],\n",
            "       [ 1.76748529e-07,  6.00153214e-07, -2.76620472e-06, ...,\n",
            "        -1.17660435e-04, -1.54630902e-06, -9.59590579e-06],\n",
            "       [ 1.04734556e-06, -3.41708324e-06,  1.41095215e-05, ...,\n",
            "        -1.16182127e-04,  3.16504361e-06, -7.56722511e-06],\n",
            "       ...,\n",
            "       [ 5.80489314e-07, -3.77892798e-06, -5.18459201e-05, ...,\n",
            "         5.02767361e-05,  2.39466572e-05,  7.15834085e-06],\n",
            "       [-3.52797862e-08,  1.26969030e-06, -7.60094554e-05, ...,\n",
            "         5.32584927e-05,  2.62811172e-05,  7.31682258e-06],\n",
            "       [ 1.19800018e-06, -5.40129349e-06, -4.26566912e-05, ...,\n",
            "         5.70174088e-05,  2.81655157e-05,  8.93952620e-06]]), array([[-4.55033700e-08,  1.80684196e-07,  5.99024759e-07, ...,\n",
            "        -2.99998574e-05,  1.64331523e-05, -9.52410846e-06],\n",
            "       [-2.46291336e-07,  1.37920017e-06, -6.22790094e-06, ...,\n",
            "        -3.47359346e-05,  1.47272895e-05, -8.33853392e-06],\n",
            "       [-4.60424054e-08,  4.87656621e-07, -2.38111147e-06, ...,\n",
            "        -3.96805044e-05,  1.68134848e-05, -1.46747607e-05],\n",
            "       ...,\n",
            "       [ 7.42379935e-09,  8.98887862e-08, -7.78087639e-08, ...,\n",
            "         1.66340178e-04,  1.18880424e-04,  7.70204497e-05],\n",
            "       [ 1.81652027e-08,  3.16549027e-08,  1.45137093e-07, ...,\n",
            "         1.69789157e-04,  1.22681042e-04,  8.06541939e-05],\n",
            "       [ 1.15925243e-08,  5.45030474e-08, -4.54512907e-08, ...,\n",
            "         1.80365823e-04,  1.36472052e-04,  9.02754400e-05]]), array([[ 8.94932413e-08, -3.95609987e-07,  1.08261384e-06, ...,\n",
            "        -4.53199136e-05, -9.77841264e-05, -6.43604071e-05],\n",
            "       [ 1.67811223e-07, -9.45985960e-07,  2.93126368e-06, ...,\n",
            "        -4.89795093e-05, -1.12033216e-04, -6.67791974e-05],\n",
            "       [-9.99771572e-08,  5.02317278e-07, -2.43430463e-06, ...,\n",
            "        -3.97835793e-05, -8.57610867e-05, -4.94840606e-05],\n",
            "       ...,\n",
            "       [ 6.99999987e-08,  1.80862809e-08, -9.93322487e-07, ...,\n",
            "         1.39506796e-04,  7.01656900e-05,  3.14854915e-05],\n",
            "       [ 6.12244264e-08, -3.71212998e-08, -9.02947079e-07, ...,\n",
            "         1.31040317e-04,  6.25634857e-05,  2.74128615e-05],\n",
            "       [ 1.39497685e-08,  2.67931227e-07, -2.18842638e-06, ...,\n",
            "         1.20591794e-04,  5.92804026e-05,  2.57809515e-05]]), array([[-1.24827181e-07,  7.02375019e-07, -5.37460710e-06, ...,\n",
            "        -1.22422061e-05, -2.52213595e-05, -2.38710873e-05],\n",
            "       [-7.55418057e-07,  1.74859974e-06, -3.32986247e-06, ...,\n",
            "        -1.32309788e-05, -2.63067705e-05, -1.48082418e-05],\n",
            "       [-4.20501927e-08,  2.16341405e-07, -3.47387640e-06, ...,\n",
            "        -9.86206851e-06, -2.05883825e-05, -1.84910714e-05],\n",
            "       ...,\n",
            "       [-1.49854138e-08,  4.58052725e-08, -3.36409073e-07, ...,\n",
            "         1.41338896e-04,  9.95302471e-05,  7.59162940e-05],\n",
            "       [-2.21360921e-08,  6.76624481e-08, -4.97127189e-07, ...,\n",
            "         1.35125694e-04,  1.01116755e-04,  8.06231255e-05],\n",
            "       [-1.82780084e-08,  5.58696094e-08, -4.14539642e-07, ...,\n",
            "         1.35080496e-04,  1.05348168e-04,  8.61194858e-05]]), array([[ 3.83044210e-07, -1.15555110e-06, -6.85127088e-06, ...,\n",
            "         4.23204183e-05, -1.26466111e-05, -2.53290400e-05],\n",
            "       [ 8.67618724e-08,  1.54695655e-07, -6.48949708e-06, ...,\n",
            "         4.52325585e-05, -1.10982974e-05, -2.77587023e-05],\n",
            "       [-2.20896624e-07,  1.59816091e-06, -1.05442887e-05, ...,\n",
            "         4.52692257e-05, -1.99563056e-05, -3.34442266e-05],\n",
            "       ...,\n",
            "       [ 4.17162802e-08,  8.27694890e-08, -8.30234299e-08, ...,\n",
            "         9.01374515e-05,  5.16029431e-05,  2.53210437e-05],\n",
            "       [ 6.30195984e-08, -1.21063778e-07,  1.01004639e-06, ...,\n",
            "         8.22130023e-05,  4.66756464e-05,  2.34512117e-05],\n",
            "       [ 6.42567954e-08, -7.20236528e-08,  2.54950635e-07, ...,\n",
            "         8.49265489e-05,  4.91135579e-05,  2.73392106e-05]]), array([[ 2.14704670e-07, -5.43357885e-07,  3.56498981e-06, ...,\n",
            "        -5.29462341e-05, -3.20152139e-05, -1.23378895e-05],\n",
            "       [-1.44872319e-08, -7.32102805e-08,  9.50743662e-09, ...,\n",
            "        -4.71101303e-05, -2.98894920e-05, -1.20805653e-05],\n",
            "       [ 7.97722848e-08, -4.75042263e-08, -4.93779737e-07, ...,\n",
            "        -3.79558842e-05, -2.61746500e-05, -1.39240492e-05],\n",
            "       ...,\n",
            "       [ 2.92479374e-08,  3.11956086e-07, -1.93975188e-06, ...,\n",
            "         5.70108059e-05,  3.89797024e-05,  2.23938769e-05],\n",
            "       [ 1.01680415e-08,  4.81569998e-07, -3.19773198e-06, ...,\n",
            "         5.58295396e-05,  3.53547439e-05,  2.10263097e-05],\n",
            "       [ 2.82102164e-08,  5.52340822e-08, -6.82444067e-07, ...,\n",
            "         5.93405857e-05,  4.03395134e-05,  2.66328407e-05]]), array([[ 1.49081401e-07, -8.45617706e-07, -1.91637398e-07, ...,\n",
            "        -8.60919390e-05, -6.71930829e-05, -7.92357096e-05],\n",
            "       [ 9.46715488e-08, -3.87220751e-07, -9.47843091e-07, ...,\n",
            "        -8.32699952e-05, -6.48949645e-05, -7.79726179e-05],\n",
            "       [ 1.04326247e-07, -4.77503477e-07, -7.96516588e-07, ...,\n",
            "        -7.22265686e-05, -5.30972320e-05, -6.86171697e-05],\n",
            "       ...,\n",
            "       [ 3.06541388e-08,  2.46764102e-08, -8.74923671e-07, ...,\n",
            "         1.16428069e-04,  8.26426476e-05,  6.09731615e-05],\n",
            "       [ 8.30488034e-09,  1.04633443e-07, -1.38159874e-06, ...,\n",
            "         1.08892353e-04,  7.99408663e-05,  5.86022870e-05],\n",
            "       [ 5.34263389e-09,  6.63917135e-08, -3.13784710e-07, ...,\n",
            "         1.16949523e-04,  8.41795263e-05,  5.99600935e-05]]), array([[-2.25987158e-08,  2.61419899e-07, -1.80871859e-06, ...,\n",
            "        -2.72500929e-05, -8.60201635e-06, -2.38579996e-05],\n",
            "       [-1.43784966e-08,  2.62605369e-07, -1.58827390e-06, ...,\n",
            "        -2.82039928e-05, -1.09406756e-05, -2.53334347e-05],\n",
            "       [-4.44333503e-09,  1.74426447e-07, -1.39528709e-06, ...,\n",
            "        -3.29666946e-05, -1.44634469e-05, -2.37365803e-05],\n",
            "       ...,\n",
            "       [-9.49491419e-09,  4.85736322e-08, -7.40425662e-07, ...,\n",
            "         1.72204847e-04,  1.33543188e-04,  9.70677429e-05],\n",
            "       [-9.23871202e-09,  4.59418708e-08, -7.94979940e-07, ...,\n",
            "         1.76238638e-04,  1.39334748e-04,  1.02541737e-04],\n",
            "       [-7.81129650e-09,  2.48922962e-08, -5.84347390e-07, ...,\n",
            "         1.81602212e-04,  1.44317455e-04,  1.04022714e-04]]), array([[-1.33399780e-08,  1.19978409e-07, -5.91679338e-07, ...,\n",
            "        -2.63472266e-05, -6.34466824e-06, -2.44622988e-05],\n",
            "       [-2.27297665e-08,  1.97288315e-07, -7.01161582e-07, ...,\n",
            "        -2.22212875e-05,  6.09999688e-07, -2.67988889e-05],\n",
            "       [ 6.56271437e-09, -2.76386003e-09, -1.63526749e-07, ...,\n",
            "        -1.98144808e-05, -2.75818252e-06, -2.70062374e-05],\n",
            "       ...,\n",
            "       [ 2.85311175e-09,  3.47567308e-08, -7.04465663e-07, ...,\n",
            "         9.91284760e-05,  7.24069469e-05,  5.94456724e-05],\n",
            "       [ 4.85771201e-09,  6.35629371e-09, -3.25997974e-07, ...,\n",
            "         1.12376249e-04,  8.12429498e-05,  6.64627951e-05],\n",
            "       [ 1.40511087e-08, -2.24858354e-08, -3.40964931e-07, ...,\n",
            "         1.07626474e-04,  7.49296451e-05,  5.95253005e-05]]), array([[-5.62699576e-09,  2.85757778e-07, -3.58581974e-06, ...,\n",
            "        -7.01221725e-05,  4.92637855e-06,  6.78029210e-06],\n",
            "       [ 1.43767139e-07, -2.85881356e-07, -1.34368733e-07, ...,\n",
            "        -7.57029920e-05,  4.93137213e-06,  9.84721373e-06],\n",
            "       [ 3.13876541e-07, -7.93174877e-07,  1.97070563e-06, ...,\n",
            "        -7.72604471e-05,  2.71299837e-06,  6.98398117e-06],\n",
            "       ...,\n",
            "       [ 1.80473137e-07, -2.54955324e-07,  1.42236203e-07, ...,\n",
            "         4.99225353e-05,  3.25966212e-05,  2.10655344e-05],\n",
            "       [ 6.47540830e-08, -1.40959273e-07,  1.90702735e-07, ...,\n",
            "         5.21387556e-05,  3.69347617e-05,  2.66293355e-05],\n",
            "       [ 3.96031396e-07, -1.05634240e-06,  3.82952521e-06, ...,\n",
            "         5.19116147e-05,  3.82832259e-05,  2.80321783e-05]]), array([[-1.85815907e-06,  4.29223655e-06, -2.89390385e-07, ...,\n",
            "        -1.34382235e-05,  2.00348654e-06, -9.03048203e-06],\n",
            "       [ 6.22148804e-08, -1.55602493e-07,  4.94172241e-07, ...,\n",
            "        -1.09810244e-05,  5.14961130e-06, -1.11138506e-05],\n",
            "       [-2.53645737e-07,  8.84994506e-07, -3.83794486e-06, ...,\n",
            "        -4.42628425e-06,  7.78469439e-06, -7.67057554e-06],\n",
            "       ...,\n",
            "       [ 3.45934694e-08,  4.93130194e-08, -4.66576438e-07, ...,\n",
            "         1.36943388e-04,  9.55820942e-05,  6.18360209e-05],\n",
            "       [ 1.78953883e-08,  2.56853259e-08, -3.89137938e-07, ...,\n",
            "         1.30853557e-04,  9.33812626e-05,  6.60931037e-05],\n",
            "       [ 2.86028783e-08,  1.15884745e-07, -1.08267818e-06, ...,\n",
            "         1.16015610e-04,  8.27809636e-05,  6.13881493e-05]]), array([[-1.93574053e-07,  6.31515888e-07, -5.64259699e-06, ...,\n",
            "        -7.54750436e-05, -3.07604423e-05,  1.19268520e-06],\n",
            "       [ 2.03322372e-07, -2.20090192e-06,  2.31843364e-06, ...,\n",
            "        -5.06167780e-05, -2.00969862e-05, -3.53832093e-07],\n",
            "       [ 3.62490113e-07, -1.08966708e-06, -7.68120935e-06, ...,\n",
            "        -5.15713036e-05, -1.88538306e-05, -8.31740692e-07],\n",
            "       ...,\n",
            "       [-4.02345002e-09, -1.76728214e-08, -1.36425672e-06, ...,\n",
            "         8.09573830e-05,  4.89859631e-05,  2.22403487e-05],\n",
            "       [-4.38640235e-08,  4.30019782e-07, -2.47806292e-06, ...,\n",
            "         9.28380832e-05,  5.79705375e-05,  2.97327260e-05],\n",
            "       [ 1.02874459e-07, -3.15011363e-07,  1.13871454e-06, ...,\n",
            "         8.89255898e-05,  5.69149925e-05,  2.97012266e-05]]), array([[-2.94443070e-09,  5.11129699e-08, -5.56409304e-07, ...,\n",
            "        -1.89061568e-04,  6.03489980e-06,  3.72844188e-05],\n",
            "       [-3.66360942e-09,  6.90145825e-08, -8.31554246e-07, ...,\n",
            "        -1.99109418e-04, -4.12419740e-06,  3.41593659e-05],\n",
            "       [-2.48387910e-09,  1.54265436e-07, -9.62112040e-07, ...,\n",
            "        -1.83450000e-04, -1.36323988e-05,  3.11065633e-05],\n",
            "       ...,\n",
            "       [-5.38368283e-09,  1.70163162e-07, -5.71100429e-07, ...,\n",
            "         1.23958336e-04,  8.66878108e-05,  5.75889644e-05],\n",
            "       [-1.34294007e-08,  1.38772918e-07, -8.71949737e-07, ...,\n",
            "         1.31022680e-04,  9.45367938e-05,  6.48304049e-05],\n",
            "       [-2.20718448e-08,  1.02245544e-07, -7.50459890e-07, ...,\n",
            "         1.42521749e-04,  1.08138964e-04,  7.80898190e-05]]), array([[ 1.66139635e-08,  1.12020103e-07, -1.45175954e-06, ...,\n",
            "        -3.92433903e-05,  5.04848049e-06, -2.08042493e-05],\n",
            "       [ 1.20295013e-07, -3.87163595e-07, -4.51440116e-07, ...,\n",
            "        -3.88290209e-05,  9.89110322e-06, -2.76454593e-05],\n",
            "       [ 5.43960645e-08,  3.33226353e-08, -1.42610099e-06, ...,\n",
            "        -3.57606623e-05,  1.11030467e-05, -2.90872413e-05],\n",
            "       ...,\n",
            "       [ 1.02261531e-07, -2.25160690e-07, -1.91337449e-07, ...,\n",
            "         8.39108689e-05,  6.86755156e-05,  4.07941698e-05],\n",
            "       [ 1.30038629e-07, -4.04773800e-07, -4.72324331e-07, ...,\n",
            "         8.63905007e-05,  7.19166637e-05,  4.28671883e-05],\n",
            "       [ 8.51571613e-08, -1.55090248e-07, -7.20631135e-07, ...,\n",
            "         8.84871479e-05,  7.11770990e-05,  4.32476918e-05]]), array([[ 3.92751573e-08, -1.93114815e-07, -1.88410570e-06, ...,\n",
            "        -6.69222354e-05,  4.23492838e-06, -3.06168804e-05],\n",
            "       [-2.16409717e-07,  9.46917794e-07, -6.77722210e-06, ...,\n",
            "        -7.35039357e-05, -1.43810462e-06, -3.17073682e-05],\n",
            "       [-5.02176249e-07,  2.29823422e-06, -1.15482862e-05, ...,\n",
            "        -6.09887466e-05, -4.95941140e-06, -3.51556082e-05],\n",
            "       ...,\n",
            "       [ 4.59608813e-08, -1.48478634e-07,  1.36391776e-07, ...,\n",
            "         1.05441883e-04,  6.40105573e-05,  5.72853824e-05],\n",
            "       [ 4.22778115e-08, -6.14284659e-08, -9.76854608e-07, ...,\n",
            "         9.91828638e-05,  6.68661742e-05,  5.84954978e-05],\n",
            "       [ 6.36195665e-08, -2.36230306e-07, -6.27512350e-07, ...,\n",
            "         1.04959938e-04,  7.16625291e-05,  5.87756585e-05]]), array([[ 1.87889569e-07,  7.47316733e-07, -1.73303833e-05, ...,\n",
            "        -1.73004501e-05, -4.07398256e-05, -2.27130786e-05],\n",
            "       [ 1.90579286e-07, -1.40871990e-07, -2.91665401e-07, ...,\n",
            "        -1.18685966e-05, -4.56825946e-05, -2.59371009e-05],\n",
            "       [ 8.99218051e-08,  4.84072643e-07, -4.61461786e-06, ...,\n",
            "        -1.34171787e-05, -4.91646715e-05, -2.48664346e-05],\n",
            "       ...,\n",
            "       [ 3.52964840e-08,  1.40652872e-07, -3.05961322e-07, ...,\n",
            "         1.24386366e-04,  9.18677397e-05,  6.68477223e-05],\n",
            "       [ 4.50961117e-08,  1.37659413e-07, -4.63266900e-07, ...,\n",
            "         1.13798975e-04,  9.16136996e-05,  6.75360425e-05],\n",
            "       [ 4.67721399e-08,  8.74603145e-08,  2.70090538e-07, ...,\n",
            "         1.16110365e-04,  9.57410957e-05,  7.11257453e-05]]), array([[-1.72914383e-07,  3.52003070e-07, -1.39716076e-06, ...,\n",
            "        -1.32442816e-04,  8.33480135e-06,  9.39180700e-06],\n",
            "       [-4.60706495e-08,  4.19396969e-07, -2.17118577e-06, ...,\n",
            "        -1.29575958e-04,  1.20461373e-05,  1.03879684e-05],\n",
            "       [ 4.29641638e-08, -2.85211968e-07,  9.40400241e-07, ...,\n",
            "        -1.30222048e-04,  1.19853239e-05,  8.14453233e-06],\n",
            "       ...,\n",
            "       [ 8.69320473e-08, -7.94530024e-08, -2.69838685e-09, ...,\n",
            "         9.39231031e-05,  6.99358352e-05,  4.36533701e-05],\n",
            "       [ 1.01436378e-07, -9.32974729e-08, -2.66209437e-08, ...,\n",
            "         8.77660641e-05,  6.40658327e-05,  3.90763853e-05],\n",
            "       [ 3.54239553e-08,  4.82111631e-08, -9.48341153e-07, ...,\n",
            "         8.78263018e-05,  6.44447791e-05,  3.86124266e-05]]), array([[-1.73438508e-08,  1.24971606e-07, -6.46720423e-07, ...,\n",
            "        -6.84249317e-05, -3.51639537e-05, -5.84440822e-05],\n",
            "       [-1.95620444e-08,  1.41596317e-07, -8.01211286e-07, ...,\n",
            "        -7.78350950e-05, -2.71589306e-05, -5.10628633e-05],\n",
            "       [-5.06258253e-08,  4.28426631e-07, -1.74350066e-06, ...,\n",
            "        -6.25303801e-05, -2.19866779e-05, -3.83917723e-05],\n",
            "       ...,\n",
            "       [-1.81489277e-08,  1.36208087e-07, -6.52627591e-07, ...,\n",
            "         2.01774150e-04,  1.46961262e-04,  9.67495798e-05],\n",
            "       [-1.13278391e-08,  9.93104621e-08, -4.83242275e-07, ...,\n",
            "         1.92695923e-04,  1.44298858e-04,  9.82144411e-05],\n",
            "       [-1.71956955e-08,  2.09169229e-07, -9.24612607e-07, ...,\n",
            "         1.82452932e-04,  1.28601983e-04,  8.70344229e-05]]), array([[ 4.28977984e-07, -1.89215029e-06,  8.33511513e-06, ...,\n",
            "        -9.22231720e-06, -3.08374570e-06, -1.31673278e-05],\n",
            "       [ 2.17478672e-07, -1.07913672e-06,  5.31849673e-06, ...,\n",
            "        -9.11082680e-06, -2.94126698e-06, -1.20081986e-05],\n",
            "       [-1.01823314e-08,  5.05346065e-07, -8.39229597e-06, ...,\n",
            "        -9.59204044e-06, -2.84769067e-06, -1.09111716e-05],\n",
            "       ...,\n",
            "       [-1.10972764e-09,  8.24056414e-08, -2.58733962e-07, ...,\n",
            "         1.33320675e-04,  8.70835574e-05,  4.68782673e-05],\n",
            "       [ 7.95938959e-09,  1.23020873e-08, -3.20787478e-07, ...,\n",
            "         1.36750983e-04,  8.18355693e-05,  4.43026001e-05],\n",
            "       [ 4.21559454e-09,  2.28744028e-08, -2.40899880e-07, ...,\n",
            "         1.39976823e-04,  7.93786166e-05,  4.12897862e-05]]), array([[ 1.35542280e-07, -2.42302633e-07,  2.56002778e-07, ...,\n",
            "         1.03893999e-05, -1.37067909e-05, -3.86420688e-05],\n",
            "       [ 2.08569489e-07, -4.26667157e-07,  7.65902257e-07, ...,\n",
            "         1.49273510e-05, -1.25475744e-05, -4.04922685e-05],\n",
            "       [ 7.39393045e-08, -1.64563616e-08, -2.32470128e-07, ...,\n",
            "         1.79495655e-05, -7.88241323e-06, -3.78629411e-05],\n",
            "       ...,\n",
            "       [ 3.80966689e-08,  8.36880716e-08, -4.44653097e-08, ...,\n",
            "         1.05933286e-04,  7.57220187e-05,  5.04283016e-05],\n",
            "       [ 6.99078697e-08,  6.38970334e-08, -5.02117778e-08, ...,\n",
            "         1.00137069e-04,  7.08114385e-05,  4.39316900e-05],\n",
            "       [ 5.18365617e-08,  9.71235750e-08, -3.47571557e-07, ...,\n",
            "         9.82542042e-05,  7.23289777e-05,  4.25605213e-05]]), array([[ 7.72337039e-09,  1.75365500e-07, -5.49036656e-07, ...,\n",
            "        -4.78372131e-05, -9.45930424e-06, -6.41407769e-06],\n",
            "       [-4.07772944e-08,  3.68310310e-07, -1.32855553e-06, ...,\n",
            "        -4.27566556e-05, -9.09724804e-06, -7.64255310e-06],\n",
            "       [ 5.01288788e-09, -6.32070707e-09, -1.20890604e-07, ...,\n",
            "        -4.47905295e-05, -1.21677003e-05, -1.09862603e-05],\n",
            "       ...,\n",
            "       [-1.48001877e-09,  3.82232113e-09,  2.54653649e-08, ...,\n",
            "         1.91702595e-04,  1.22552781e-04,  8.63196838e-05],\n",
            "       [-1.91586835e-09,  3.77120424e-09,  4.07146068e-08, ...,\n",
            "         1.86798163e-04,  1.18640608e-04,  8.02130162e-05],\n",
            "       [-1.49664237e-09,  2.25296692e-09, -1.89055793e-08, ...,\n",
            "         1.89110520e-04,  1.21408739e-04,  8.26716278e-05]]), array([[-1.26443695e-07,  9.30686383e-07, -1.19968554e-05, ...,\n",
            "        -4.34777903e-05, -2.97719380e-05, -1.67242888e-05],\n",
            "       [-2.80340178e-08,  7.90564798e-07, -2.34551753e-05, ...,\n",
            "        -3.76548960e-05, -2.79021879e-05, -1.73296194e-05],\n",
            "       [-2.34405846e-08,  5.95878873e-07, -8.65589936e-06, ...,\n",
            "        -4.08446867e-05, -2.88318824e-05, -1.94418590e-05],\n",
            "       ...,\n",
            "       [ 1.92811278e-08,  1.62528949e-07, -8.32071294e-07, ...,\n",
            "         1.58353869e-04,  1.07863794e-04,  6.69462679e-05],\n",
            "       [ 2.16643681e-08,  9.93103200e-08, -4.96971893e-07, ...,\n",
            "         1.52596287e-04,  1.04027771e-04,  6.44060274e-05],\n",
            "       [ 6.80010004e-08, -1.83896447e-07,  8.52206881e-07, ...,\n",
            "         1.55496615e-04,  1.05819381e-04,  6.71393718e-05]]), array([[ 2.05421225e-06, -8.83564007e-06, -5.29622994e-05, ...,\n",
            "        -2.07662324e-05, -9.53856215e-06, -1.57830058e-07],\n",
            "       [ 2.01808234e-06, -9.91387697e-06, -4.34528229e-05, ...,\n",
            "        -2.28493209e-05, -1.03333432e-05, -2.63901114e-07],\n",
            "       [ 3.64345124e-06, -1.38937867e-05, -5.90397503e-05, ...,\n",
            "        -2.60461056e-05, -1.27285484e-05, -7.31301157e-07],\n",
            "       ...,\n",
            "       [ 3.68628044e-08, -7.87107766e-08,  1.85601181e-07, ...,\n",
            "         9.66821462e-05,  7.58570750e-05,  5.22742703e-05],\n",
            "       [-1.11012721e-09,  1.45799518e-07, -7.09297694e-07, ...,\n",
            "         1.03807193e-04,  8.02411814e-05,  5.85563757e-05],\n",
            "       [ 5.68050247e-08,  5.38924958e-08, -1.24791441e-07, ...,\n",
            "         9.23780972e-05,  6.90604138e-05,  4.65834019e-05]]), array([[ 3.89904677e-08,  1.04787873e-07, -7.68044401e-07, ...,\n",
            "        -1.65319761e-05, -3.59444020e-05, -2.57464017e-05],\n",
            "       [ 5.39655005e-08, -8.02059930e-08,  1.40089000e-07, ...,\n",
            "        -1.27065323e-05, -3.56734818e-05, -2.41504622e-05],\n",
            "       [ 3.75041935e-08,  3.06634718e-08, -5.69859026e-07, ...,\n",
            "        -1.85217614e-05, -3.91727190e-05, -2.53972757e-05],\n",
            "       ...,\n",
            "       [ 2.62370055e-08,  2.72309855e-08,  1.16093211e-07, ...,\n",
            "         8.79203944e-05,  6.20996652e-05,  4.07960142e-05],\n",
            "       [ 1.61056875e-08,  2.13939515e-07, -1.02785373e-06, ...,\n",
            "         8.52990997e-05,  6.07516085e-05,  3.93092705e-05],\n",
            "       [ 1.72422765e-09,  2.63318867e-07, -1.18821833e-06, ...,\n",
            "         8.43341331e-05,  5.97452890e-05,  3.93950650e-05]]), array([[ 1.37567193e-08, -5.23094116e-07,  6.65833340e-06, ...,\n",
            "        -8.75216938e-05, -1.87494516e-05, -1.05540096e-06],\n",
            "       [ 9.60056781e-08, -1.47964528e-07,  1.21429696e-06, ...,\n",
            "        -9.99184704e-05, -2.50219946e-05, -2.94086817e-06],\n",
            "       [-7.13625781e-08,  4.16928145e-07, -3.16688465e-06, ...,\n",
            "        -1.07474269e-04, -3.10823161e-05, -4.63650576e-06],\n",
            "       ...,\n",
            "       [-5.53144503e-07,  1.71361830e-06, -3.44991931e-05, ...,\n",
            "         4.39155192e-05,  2.01473904e-05,  6.57983264e-06],\n",
            "       [-5.31629603e-08,  7.88115074e-07, -4.04650418e-05, ...,\n",
            "         4.29897918e-05,  2.01825242e-05,  6.64868412e-06],\n",
            "       [-1.02442630e-06,  3.24866210e-06, -2.96599919e-05, ...,\n",
            "         3.66827080e-05,  1.63412915e-05,  4.51486449e-06]]), array([[-2.40017908e-08,  1.45619197e-07, -4.42477415e-07, ...,\n",
            "        -9.11305542e-05, -1.87093256e-08, -3.75483751e-06],\n",
            "       [-8.02607492e-09,  1.59955263e-07, -2.88997683e-07, ...,\n",
            "        -8.70583535e-05, -3.69571308e-06, -6.33842365e-06],\n",
            "       [-1.52352908e-09,  2.02822967e-08, -6.72397107e-08, ...,\n",
            "        -7.62901182e-05, -1.65187721e-08, -3.72701129e-06],\n",
            "       ...,\n",
            "       [ 1.00550828e-07, -1.55184580e-07,  2.37545677e-07, ...,\n",
            "         7.36569637e-05,  5.28794844e-05,  3.22725682e-05],\n",
            "       [ 6.81742591e-08,  1.01722129e-07, -3.93999613e-07, ...,\n",
            "         7.02299149e-05,  5.03792180e-05,  2.99928324e-05],\n",
            "       [ 1.29874579e-07, -9.62968656e-08,  1.85208691e-07, ...,\n",
            "         7.76680463e-05,  5.38047352e-05,  3.24681678e-05]]), array([[ 1.04477429e-07, -5.56576651e-07,  1.84548651e-06, ...,\n",
            "        -2.83193331e-05, -2.29745910e-05, -4.25923863e-05],\n",
            "       [ 1.52012035e-07, -8.25093991e-07,  2.39735346e-06, ...,\n",
            "        -2.65746894e-05, -2.22252347e-05, -4.45087244e-05],\n",
            "       [ 6.66362325e-08, -1.36118729e-07,  1.64396857e-10, ...,\n",
            "        -2.79657215e-05, -1.80125626e-05, -4.10189787e-05],\n",
            "       ...,\n",
            "       [ 5.53398145e-08, -2.01001598e-07, -8.70416898e-07, ...,\n",
            "         1.87146972e-04,  1.23773585e-04,  8.47775154e-05],\n",
            "       [ 5.86841580e-08, -2.60244860e-07, -8.88657155e-07, ...,\n",
            "         1.70484098e-04,  1.12447058e-04,  8.08821351e-05],\n",
            "       [ 7.78637812e-08, -3.90788642e-07, -1.15556099e-06, ...,\n",
            "         2.05236080e-04,  1.42982099e-04,  1.05678548e-04]])]\n"
          ],
          "name": "stdout"
        }
      ]
    },
    {
      "metadata": {
        "id": "Jdb36cHQiU9D",
        "colab_type": "code",
        "colab": {
          "base_uri": "https://localhost:8080/",
          "height": 34
        },
        "outputId": "935cdd5c-de7f-424c-b77f-36aca8957805"
      },
      "cell_type": "code",
      "source": [
        "print(np.array(impulse_vals).shape)"
      ],
      "execution_count": 28,
      "outputs": [
        {
          "output_type": "stream",
          "text": [
            "(32, 1250, 200)\n"
          ],
          "name": "stdout"
        }
      ]
    },
    {
      "metadata": {
        "id": "mA9xGJhjiYeK",
        "colab_type": "code",
        "colab": {
          "base_uri": "https://localhost:8080/",
          "height": 10641
        },
        "outputId": "6ae51911-f978-4633-9748-e9b4445663f9"
      },
      "cell_type": "code",
      "source": [
        "valid_images_canny = []\n",
        "for i in valid_images:\n",
        "    valid_images_canny.append(np.expand_dims(get_canny_image(i), axis=2))\n",
        "    "
      ],
      "execution_count": 29,
      "outputs": [
        {
          "output_type": "display_data",
          "data": {
            "image/png": "[encoded data removed]",
            "text/plain": [
              "<matplotlib.figure.Figure at 0x7fc8239f8668>"
            ]
          },
          "metadata": {
            "tags": []
          }
        },
        {
          "output_type": "display_data",
          "data": {
            "image/png": "[encoded data removed]",
            "text/plain": [
              "<matplotlib.figure.Figure at 0x7fc8238c2978>"
            ]
          },
          "metadata": {
            "tags": []
          }
        },
        {
          "output_type": "display_data",
          "data": {
            "image/png": "[encoded data removed]",
            "text/plain": [
              "<matplotlib.figure.Figure at 0x7fc823ac35c0>"
            ]
          },
          "metadata": {
            "tags": []
          }
        },
        {
          "output_type": "display_data",
          "data": {
            "image/png": "[encoded data removed]",
            "text/plain": [
              "<matplotlib.figure.Figure at 0x7fc823d2f780>"
            ]
          },
          "metadata": {
            "tags": []
          }
        },
        {
          "output_type": "display_data",
          "data": {
            "image/png": "[encoded data removed]",
            "text/plain": [
              "<matplotlib.figure.Figure at 0x7fc823c85748>"
            ]
          },
          "metadata": {
            "tags": []
          }
        },
        {
          "output_type": "display_data",
          "data": {
            "image/png": "[encoded data removed]",
            "text/plain": [
              "<matplotlib.figure.Figure at 0x7fc823d32470>"
            ]
          },
          "metadata": {
            "tags": []
          }
        },
        {
          "output_type": "display_data",
          "data": {
            "image/png": "[encoded data removed]",
            "text/plain": [
              "<matplotlib.figure.Figure at 0x7fc823bcb400>"
            ]
          },
          "metadata": {
            "tags": []
          }
        },
        {
          "output_type": "display_data",
          "data": {
            "image/png": "[encoded data removed]",
            "text/plain": [
              "<matplotlib.figure.Figure at 0x7fc823c776a0>"
            ]
          },
          "metadata": {
            "tags": []
          }
        },
        {
          "output_type": "display_data",
          "data": {
            "image/png": "[encoded data removed]",
            "text/plain": [
              "<matplotlib.figure.Figure at 0x7fc823c98160>"
            ]
          },
          "metadata": {
            "tags": []
          }
        },
        {
          "output_type": "display_data",
          "data": {
            "image/png": "[encoded data removed]",
            "text/plain": [
              "<matplotlib.figure.Figure at 0x7fc823a6aef0>"
            ]
          },
          "metadata": {
            "tags": []
          }
        },
        {
          "output_type": "display_data",
          "data": {
            "image/png": "[encoded data removed]",
            "text/plain": [
              "<matplotlib.figure.Figure at 0x7fc823a5c2e8>"
            ]
          },
          "metadata": {
            "tags": []
          }
        },
        {
          "output_type": "display_data",
          "data": {
            "image/png": "[encoded data removed]",
            "text/plain": [
              "<matplotlib.figure.Figure at 0x7fc832a1db00>"
            ]
          },
          "metadata": {
            "tags": []
          }
        },
        {
          "output_type": "display_data",
          "data": {
            "image/png": "[encoded data removed]",
            "text/plain": [
              "<matplotlib.figure.Figure at 0x7fc823a8b9b0>"
            ]
          },
          "metadata": {
            "tags": []
          }
        },
        {
          "output_type": "display_data",
          "data": {
            "image/png": "[encoded data removed]",
            "text/plain": [
              "<matplotlib.figure.Figure at 0x7fc8238faa58>"
            ]
          },
          "metadata": {
            "tags": []
          }
        },
        {
          "output_type": "display_data",
          "data": {
            "image/png": "[encoded data removed]",
            "text/plain": [
              "<matplotlib.figure.Figure at 0x7fc823b96080>"
            ]
          },
          "metadata": {
            "tags": []
          }
        },
        {
          "output_type": "display_data",
          "data": {
            "image/png": "[encoded data removed]",
            "text/plain": [
              "<matplotlib.figure.Figure at 0x7fc8238aa5c0>"
            ]
          },
          "metadata": {
            "tags": []
          }
        },
        {
          "output_type": "display_data",
          "data": {
            "image/png": "[encoded data removed]",
            "text/plain": [
              "<matplotlib.figure.Figure at 0x7fc823c63908>"
            ]
          },
          "metadata": {
            "tags": []
          }
        },
        {
          "output_type": "display_data",
          "data": {
            "image/png": "[encoded data removed]",
            "text/plain": [
              "<matplotlib.figure.Figure at 0x7fc8210808d0>"
            ]
          },
          "metadata": {
            "tags": []
          }
        },
        {
          "output_type": "display_data",
          "data": {
            "image/png": "[encoded data removed]",
            "text/plain": [
              "<matplotlib.figure.Figure at 0x7fc823ce5438>"
            ]
          },
          "metadata": {
            "tags": []
          }
        },
        {
          "output_type": "display_data",
          "data": {
            "image/png": "[encoded data removed]",
            "text/plain": [
              "<matplotlib.figure.Figure at 0x7fc823d20320>"
            ]
          },
          "metadata": {
            "tags": []
          }
        },
        {
          "output_type": "display_data",
          "data": {
            "image/png": "[encoded data removed]",
            "text/plain": [
              "<matplotlib.figure.Figure at 0x7fc820ff6f28>"
            ]
          },
          "metadata": {
            "tags": []
          }
        },
        {
          "output_type": "display_data",
          "data": {
            "image/png": "[encoded data removed]",
            "text/plain": [
              "<matplotlib.figure.Figure at 0x7fc820f5f5f8>"
            ]
          },
          "metadata": {
            "tags": []
          }
        },
        {
          "output_type": "display_data",
          "data": {
            "image/png": "[encoded data removed]",
            "text/plain": [
              "<matplotlib.figure.Figure at 0x7fc820f3d6a0>"
            ]
          },
          "metadata": {
            "tags": []
          }
        },
        {
          "output_type": "display_data",
          "data": {
            "image/png": "[encoded data removed]",
            "text/plain": [
              "<matplotlib.figure.Figure at 0x7fc820eadb38>"
            ]
          },
          "metadata": {
            "tags": []
          }
        },
        {
          "output_type": "display_data",
          "data": {
            "image/png": "[encoded data removed]",
            "text/plain": [
              "<matplotlib.figure.Figure at 0x7fc820e1d2e8>"
            ]
          },
          "metadata": {
            "tags": []
          }
        },
        {
          "output_type": "display_data",
          "data": {
            "image/png": "[encoded data removed]",
            "text/plain": [
              "<matplotlib.figure.Figure at 0x7fc820e5f390>"
            ]
          },
          "metadata": {
            "tags": []
          }
        },
        {
          "output_type": "display_data",
          "data": {
            "image/png": "[encoded data removed]",
            "text/plain": [
              "<matplotlib.figure.Figure at 0x7fc820f64d68>"
            ]
          },
          "metadata": {
            "tags": []
          }
        },
        {
          "output_type": "display_data",
          "data": {
            "image/png": "[encoded data removed]",
            "text/plain": [
              "<matplotlib.figure.Figure at 0x7fc820e405f8>"
            ]
          },
          "metadata": {
            "tags": []
          }
        },
        {
          "output_type": "display_data",
          "data": {
            "image/png": "[encoded data removed]",
            "text/plain": [
              "<matplotlib.figure.Figure at 0x7fc8238fe1d0>"
            ]
          },
          "metadata": {
            "tags": []
          }
        },
        {
          "output_type": "display_data",
          "data": {
            "image/png": "[encoded data removed]",
            "text/plain": [
              "<matplotlib.figure.Figure at 0x7fc8239bb080>"
            ]
          },
          "metadata": {
            "tags": []
          }
        },
        {
          "output_type": "display_data",
          "data": {
            "image/png": "[encoded data removed]",
            "text/plain": [
              "<matplotlib.figure.Figure at 0x7fc820f0bac8>"
            ]
          },
          "metadata": {
            "tags": []
          }
        },
        {
          "output_type": "display_data",
          "data": {
            "image/png": "[encoded data removed]",
            "text/plain": [
              "<matplotlib.figure.Figure at 0x7fc823d40908>"
            ]
          },
          "metadata": {
            "tags": []
          }
        }
      ]
    },
    {
      "metadata": {
        "id": "oEXNfayhpgCM",
        "colab_type": "code",
        "colab": {}
      },
      "cell_type": "code",
      "source": [
        "elevation_vals = get_hrtf_sofa('data/cipic_hrtf_sofa/', 3).elevations\n",
        "azimuths_vals = get_hrtf_sofa('data/cipic_hrtf_sofa/', 3).azimuths"
      ],
      "execution_count": 0,
      "outputs": []
    },
    {
      "metadata": {
        "id": "rRLiuMlApzoC",
        "colab_type": "code",
        "colab": {
          "base_uri": "https://localhost:8080/",
          "height": 34
        },
        "outputId": "6199e179-031f-482d-a439-ccbf7b5667ce"
      },
      "cell_type": "code",
      "source": [
        "print(elevation_vals.shape)"
      ],
      "execution_count": 31,
      "outputs": [
        {
          "output_type": "stream",
          "text": [
            "(1250,)\n"
          ],
          "name": "stdout"
        }
      ]
    },
    {
      "metadata": {
        "id": "P1pMAZDiozhN",
        "colab_type": "code",
        "colab": {}
      },
      "cell_type": "code",
      "source": [
        "hrtf_dataset = []\n",
        "images_dataset = []\n",
        "hrtf_Y = []\n",
        "\n",
        "for idx, person in enumerate(np.array(impulse_vals)):\n",
        "    for jdx, hrtf in enumerate(person):\n",
        "        hrtf_dataset.append(np.hstack((elevation_vals[jdx], azimuths_vals[jdx], pinna_vals[idx])))\n",
        "        images_dataset.append(valid_images_canny[idx])\n",
        "        hrtf_Y.append(hrtf)"
      ],
      "execution_count": 0,
      "outputs": []
    },
    {
      "metadata": {
        "id": "Mps_NxDeo2wg",
        "colab_type": "code",
        "colab": {}
      },
      "cell_type": "code",
      "source": [
        "hrtf_dataset = np.array(hrtf_dataset)\n",
        "hrtf_Y = np.array(hrtf_Y)\n",
        "images_dataset = np.array(images_dataset)"
      ],
      "execution_count": 0,
      "outputs": []
    },
    {
      "metadata": {
        "id": "e-UKo-37qnf4",
        "colab_type": "text"
      },
      "cell_type": "markdown",
      "source": [
        "## Train Model"
      ]
    },
    {
      "metadata": {
        "id": "NW2tgrCVqpOe",
        "colab_type": "code",
        "colab": {
          "base_uri": "https://localhost:8080/",
          "height": 748
        },
        "outputId": "89d405db-6756-4062-f342-6ea3e20a05d4"
      },
      "cell_type": "code",
      "source": [
        "from keras.wrappers.scikit_learn import KerasRegressor\n",
        "from sklearn.model_selection import cross_val_score\n",
        "from sklearn.model_selection import KFold\n",
        "from sklearn.preprocessing import StandardScaler\n",
        "from sklearn.pipeline import Pipeline\n",
        "import tensorflow as tf\n",
        "import time\n",
        "import numpy as np\n",
        "from tensorflow import keras\n",
        "from sklearn.model_selection import train_test_split\n",
        "from keras.layers import Input, Embedding, LSTM, Dense, Conv2D,MaxPooling2D, Flatten, concatenate\n",
        "# from keras.models import Model\n",
        "import tensorflow as tf\n",
        "from keras import backend as K\n",
        "# from tensorflow.keras import Model\n",
        "\n",
        "def root_mean_squared_logarithmic_error(y_true, y_pred):\n",
        "    return 20*K.log(K.sqrt(K.mean(K.square(y_pred - y_true), axis=-1))) / K.log(10.0)\n",
        "    \n",
        "def get_model():\n",
        "    main_input = tf.keras.layers.Input(shape=(19,), name='main_input')\n",
        "\n",
        "    x = tf.keras.layers.Dense(64, activation='relu')(main_input)\n",
        "    x = tf.keras.layers.Dense(64, activation='relu')(x) \n",
        "    x = tf.keras.layers.Dense(64, activation='relu')(x)\n",
        "    anthro_out = tf.keras.layers.Dense(8, activation='relu')(x)\n",
        "   \n",
        "    photo_input = tf.keras.layers.Input(shape=(64,64,1), name='photo_input')\n",
        "    \n",
        "    y = tf.keras.layers.Conv2D(16, (3, 3), activation='relu')(photo_input)\n",
        "    y = tf.keras.layers.MaxPooling2D((2, 2))(y)\n",
        "    y = tf.keras.layers.Conv2D(16, (3, 3), activation='relu')(y)\n",
        "    y = tf.keras.layers.MaxPooling2D((2, 2))(y)\n",
        "    y = tf.keras.layers.Flatten()(y)\n",
        "    photo_output = tf.keras.layers.Dense(8, activation='relu')(y)\n",
        "\n",
        "    z = tf.keras.layers.concatenate([anthro_out, photo_output])\n",
        "    \n",
        "    z = tf.keras.layers.Dense(64, activation='relu')(z) \n",
        "    z = tf.keras.layers.Dense(64, activation='relu')(z) \n",
        "    z = tf.keras.layers.Dense(64, activation='relu')(z) \n",
        "    output = tf.keras.layers.Dense(200, activation='relu')(z) \n",
        "\n",
        "    return tf.keras.Model(inputs=[main_input, photo_input], outputs=[output])\n",
        "\n",
        "X_train, X_test, y_train, y_test, image_train, image_test = train_test_split(\n",
        "    hrtf_dataset, hrtf_Y, images_dataset, test_size=0.33, random_state=42)\n",
        "\n",
        "dnn_model = get_model()\n",
        "\n",
        "dnn_model.compile(optimizer=tf.train.AdagradOptimizer(learning_rate=0.1), \n",
        "              loss=root_mean_squared_logarithmic_error,\n",
        "              metrics=[root_mean_squared_logarithmic_error, 'mean_squared_logarithmic_error', 'mse'])\n",
        "\n",
        "dnn_model.summary()\n"
      ],
      "execution_count": 34,
      "outputs": [
        {
          "output_type": "stream",
          "text": [
            "Using TensorFlow backend.\n"
          ],
          "name": "stderr"
        },
        {
          "output_type": "stream",
          "text": [
            "__________________________________________________________________________________________________\n",
            "Layer (type)                    Output Shape         Param #     Connected to                     \n",
            "==================================================================================================\n",
            "photo_input (InputLayer)        (None, 64, 64, 1)    0                                            \n",
            "__________________________________________________________________________________________________\n",
            "conv2d (Conv2D)                 (None, 62, 62, 16)   160         photo_input[0][0]                \n",
            "__________________________________________________________________________________________________\n",
            "main_input (InputLayer)         (None, 19)           0                                            \n",
            "__________________________________________________________________________________________________\n",
            "max_pooling2d (MaxPooling2D)    (None, 31, 31, 16)   0           conv2d[0][0]                     \n",
            "__________________________________________________________________________________________________\n",
            "dense (Dense)                   (None, 64)           1280        main_input[0][0]                 \n",
            "__________________________________________________________________________________________________\n",
            "conv2d_1 (Conv2D)               (None, 29, 29, 16)   2320        max_pooling2d[0][0]              \n",
            "__________________________________________________________________________________________________\n",
            "dense_1 (Dense)                 (None, 64)           4160        dense[0][0]                      \n",
            "__________________________________________________________________________________________________\n",
            "max_pooling2d_1 (MaxPooling2D)  (None, 14, 14, 16)   0           conv2d_1[0][0]                   \n",
            "__________________________________________________________________________________________________\n",
            "dense_2 (Dense)                 (None, 64)           4160        dense_1[0][0]                    \n",
            "__________________________________________________________________________________________________\n",
            "flatten (Flatten)               (None, 3136)         0           max_pooling2d_1[0][0]            \n",
            "__________________________________________________________________________________________________\n",
            "dense_3 (Dense)                 (None, 8)            520         dense_2[0][0]                    \n",
            "__________________________________________________________________________________________________\n",
            "dense_4 (Dense)                 (None, 8)            25096       flatten[0][0]                    \n",
            "__________________________________________________________________________________________________\n",
            "concatenate (Concatenate)       (None, 16)           0           dense_3[0][0]                    \n",
            "                                                                 dense_4[0][0]                    \n",
            "__________________________________________________________________________________________________\n",
            "dense_5 (Dense)                 (None, 64)           1088        concatenate[0][0]                \n",
            "__________________________________________________________________________________________________\n",
            "dense_6 (Dense)                 (None, 64)           4160        dense_5[0][0]                    \n",
            "__________________________________________________________________________________________________\n",
            "dense_7 (Dense)                 (None, 64)           4160        dense_6[0][0]                    \n",
            "__________________________________________________________________________________________________\n",
            "dense_8 (Dense)                 (None, 200)          13000       dense_7[0][0]                    \n",
            "==================================================================================================\n",
            "Total params: 60,104\n",
            "Trainable params: 60,104\n",
            "Non-trainable params: 0\n",
            "__________________________________________________________________________________________________\n"
          ],
          "name": "stdout"
        }
      ]
    },
    {
      "metadata": {
        "id": "AGgFqzlRqq3O",
        "colab_type": "code",
        "colab": {
          "base_uri": "https://localhost:8080/",
          "height": 71
        },
        "outputId": "db9ff02f-f4e8-4c73-c38a-e9c1148e04f6"
      },
      "cell_type": "code",
      "source": [
        "use_tpu = True #@param {type:\"boolean\"}\n",
        "\n",
        "if use_tpu:\n",
        "    assert 'COLAB_TPU_ADDR' in os.environ, 'Missing TPU; did you request a TPU in Notebook Settings?'\n",
        "\n",
        "if 'COLAB_TPU_ADDR' in os.environ:\n",
        "  TF_MASTER = 'grpc://{}'.format(os.environ['COLAB_TPU_ADDR'])\n",
        "else:\n",
        "  TF_MASTER=''\n",
        "\n",
        "with tf.Session(TF_MASTER) as session:\n",
        "  print ('List of devices:')\n",
        "  print(session.list_devices())"
      ],
      "execution_count": 35,
      "outputs": [
        {
          "output_type": "stream",
          "text": [
            "List of devices:\n",
            "[_DeviceAttributes(/job:tpu_worker/replica:0/task:0/device:CPU:0, CPU, -1, 10447532823916392890), _DeviceAttributes(/job:tpu_worker/replica:0/task:0/device:XLA_CPU:0, XLA_CPU, 17179869184, 12417415971698378119), _DeviceAttributes(/job:tpu_worker/replica:0/task:0/device:XLA_GPU:0, XLA_GPU, 17179869184, 17733122061412997337), _DeviceAttributes(/job:tpu_worker/replica:0/task:0/device:TPU:0, TPU, 17179869184, 8272341097913178804), _DeviceAttributes(/job:tpu_worker/replica:0/task:0/device:TPU:1, TPU, 17179869184, 12502244213818456845), _DeviceAttributes(/job:tpu_worker/replica:0/task:0/device:TPU:2, TPU, 17179869184, 11754292146091516583), _DeviceAttributes(/job:tpu_worker/replica:0/task:0/device:TPU:3, TPU, 17179869184, 15638138077373369996), _DeviceAttributes(/job:tpu_worker/replica:0/task:0/device:TPU:4, TPU, 17179869184, 5318330765554578284), _DeviceAttributes(/job:tpu_worker/replica:0/task:0/device:TPU:5, TPU, 17179869184, 7331402275452484462), _DeviceAttributes(/job:tpu_worker/replica:0/task:0/device:TPU:6, TPU, 17179869184, 3214459940338287644), _DeviceAttributes(/job:tpu_worker/replica:0/task:0/device:TPU:7, TPU, 17179869184, 18374466048238024782), _DeviceAttributes(/job:tpu_worker/replica:0/task:0/device:TPU_SYSTEM:0, TPU_SYSTEM, 17179869184, 3993835885745832088)]\n"
          ],
          "name": "stdout"
        }
      ]
    },
    {
      "metadata": {
        "id": "oadMUBbzqtIl",
        "colab_type": "code",
        "colab": {
          "base_uri": "https://localhost:8080/",
          "height": 1037
        },
        "outputId": "4fe31ef6-af67-4b7c-88b8-a5ea408860c0"
      },
      "cell_type": "code",
      "source": [
        "tpu_model = tf.contrib.tpu.keras_to_tpu_model(\n",
        "    dnn_model,\n",
        "    strategy=tf.contrib.tpu.TPUDistributionStrategy(\n",
        "        tf.contrib.cluster_resolver.TPUClusterResolver(TF_MASTER)))\n",
        "\n",
        "tpu_model.summary()"
      ],
      "execution_count": 36,
      "outputs": [
        {
          "output_type": "stream",
          "text": [
            "INFO:tensorflow:Querying Tensorflow master (b'grpc://10.23.170.138:8470') for TPU system metadata.\n",
            "INFO:tensorflow:Found TPU system:\n",
            "INFO:tensorflow:*** Num TPU Cores: 8\n",
            "INFO:tensorflow:*** Num TPU Workers: 1\n",
            "INFO:tensorflow:*** Num TPU Cores Per Worker: 8\n",
            "INFO:tensorflow:*** Available Device: _DeviceAttributes(/job:worker/replica:0/task:0/device:CPU:0, CPU, -1, 10447532823916392890)\n",
            "INFO:tensorflow:*** Available Device: _DeviceAttributes(/job:worker/replica:0/task:0/device:XLA_CPU:0, XLA_CPU, 17179869184, 12417415971698378119)\n",
            "INFO:tensorflow:*** Available Device: _DeviceAttributes(/job:worker/replica:0/task:0/device:XLA_GPU:0, XLA_GPU, 17179869184, 17733122061412997337)\n",
            "INFO:tensorflow:*** Available Device: _DeviceAttributes(/job:worker/replica:0/task:0/device:TPU:0, TPU, 17179869184, 8272341097913178804)\n",
            "INFO:tensorflow:*** Available Device: _DeviceAttributes(/job:worker/replica:0/task:0/device:TPU:1, TPU, 17179869184, 12502244213818456845)\n",
            "INFO:tensorflow:*** Available Device: _DeviceAttributes(/job:worker/replica:0/task:0/device:TPU:2, TPU, 17179869184, 11754292146091516583)\n",
            "INFO:tensorflow:*** Available Device: _DeviceAttributes(/job:worker/replica:0/task:0/device:TPU:3, TPU, 17179869184, 15638138077373369996)\n",
            "INFO:tensorflow:*** Available Device: _DeviceAttributes(/job:worker/replica:0/task:0/device:TPU:4, TPU, 17179869184, 5318330765554578284)\n",
            "INFO:tensorflow:*** Available Device: _DeviceAttributes(/job:worker/replica:0/task:0/device:TPU:5, TPU, 17179869184, 7331402275452484462)\n",
            "INFO:tensorflow:*** Available Device: _DeviceAttributes(/job:worker/replica:0/task:0/device:TPU:6, TPU, 17179869184, 3214459940338287644)\n",
            "INFO:tensorflow:*** Available Device: _DeviceAttributes(/job:worker/replica:0/task:0/device:TPU:7, TPU, 17179869184, 18374466048238024782)\n",
            "INFO:tensorflow:*** Available Device: _DeviceAttributes(/job:worker/replica:0/task:0/device:TPU_SYSTEM:0, TPU_SYSTEM, 17179869184, 3993835885745832088)\n",
            "WARNING:tensorflow:tpu_model (from tensorflow.contrib.tpu.python.tpu.keras_support) is experimental and may change or be removed at any time, and without warning.\n",
            "__________________________________________________________________________________________________\n",
            "Layer (type)                    Output Shape         Param #     Connected to                     \n",
            "==================================================================================================\n",
            "photo_input (InputLayer)        (None, 64, 64, 1)    0                                            \n",
            "__________________________________________________________________________________________________\n",
            "conv2d (Conv2D)                 (None, 62, 62, 16)   160         photo_input[0][0]                \n",
            "__________________________________________________________________________________________________\n",
            "main_input (InputLayer)         (None, 19)           0                                            \n",
            "__________________________________________________________________________________________________\n",
            "max_pooling2d (MaxPooling2D)    (None, 31, 31, 16)   0           conv2d[0][0]                     \n",
            "__________________________________________________________________________________________________\n",
            "dense (Dense)                   (None, 64)           1280        main_input[0][0]                 \n",
            "__________________________________________________________________________________________________\n",
            "conv2d_1 (Conv2D)               (None, 29, 29, 16)   2320        max_pooling2d[0][0]              \n",
            "__________________________________________________________________________________________________\n",
            "dense_1 (Dense)                 (None, 64)           4160        dense[0][0]                      \n",
            "__________________________________________________________________________________________________\n",
            "max_pooling2d_1 (MaxPooling2D)  (None, 14, 14, 16)   0           conv2d_1[0][0]                   \n",
            "__________________________________________________________________________________________________\n",
            "dense_2 (Dense)                 (None, 64)           4160        dense_1[0][0]                    \n",
            "__________________________________________________________________________________________________\n",
            "flatten (Flatten)               (None, 3136)         0           max_pooling2d_1[0][0]            \n",
            "__________________________________________________________________________________________________\n",
            "dense_3 (Dense)                 (None, 8)            520         dense_2[0][0]                    \n",
            "__________________________________________________________________________________________________\n",
            "dense_4 (Dense)                 (None, 8)            25096       flatten[0][0]                    \n",
            "__________________________________________________________________________________________________\n",
            "concatenate (Concatenate)       (None, 16)           0           dense_3[0][0]                    \n",
            "                                                                 dense_4[0][0]                    \n",
            "__________________________________________________________________________________________________\n",
            "dense_5 (Dense)                 (None, 64)           1088        concatenate[0][0]                \n",
            "__________________________________________________________________________________________________\n",
            "dense_6 (Dense)                 (None, 64)           4160        dense_5[0][0]                    \n",
            "__________________________________________________________________________________________________\n",
            "dense_7 (Dense)                 (None, 64)           4160        dense_6[0][0]                    \n",
            "__________________________________________________________________________________________________\n",
            "dense_8 (Dense)                 (None, 200)          13000       dense_7[0][0]                    \n",
            "==================================================================================================\n",
            "Total params: 60,104\n",
            "Trainable params: 60,104\n",
            "Non-trainable params: 0\n",
            "__________________________________________________________________________________________________\n"
          ],
          "name": "stdout"
        }
      ]
    },
    {
      "metadata": {
        "id": "dFqJHrVlqvCf",
        "colab_type": "code",
        "colab": {
          "base_uri": "https://localhost:8080/",
          "height": 34
        },
        "outputId": "15e4c2b4-ffeb-48b8-f716-4858f76cadc8"
      },
      "cell_type": "code",
      "source": [
        "print(X_train.shape, image_train.shape, y_train.shape)"
      ],
      "execution_count": 37,
      "outputs": [
        {
          "output_type": "stream",
          "text": [
            "(26800, 19) (26800, 64, 64, 1) (26800, 200)\n"
          ],
          "name": "stdout"
        }
      ]
    },
    {
      "metadata": {
        "id": "nTDQPkH5qzy8",
        "colab_type": "code",
        "colab": {
          "base_uri": "https://localhost:8080/",
          "height": 428
        },
        "outputId": "8fa6ae08-995c-4ed7-d89f-559ae3f09ef1"
      },
      "cell_type": "code",
      "source": [
        "history = tpu_model.fit(\n",
        "  [X_train,image_train], y_train,\n",
        "  validation_split = 0.2,\n",
        "  steps_per_epoch = 100,\n",
        "  validation_steps=50,\n",
        "  epochs=5,\n",
        "  shuffle=True\n",
        ")"
      ],
      "execution_count": 38,
      "outputs": [
        {
          "output_type": "stream",
          "text": [
            "Epoch 1/5\n",
            "INFO:tensorflow:New input shapes; (re-)compiling: mode=train (# of cores 8), [TensorSpec(shape=(3350,), dtype=tf.int32, name='core_id0'), TensorSpec(shape=(3350, 19), dtype=tf.float32, name='main_input_10'), TensorSpec(shape=(3350, 64, 64, 1), dtype=tf.float32, name='photo_input_10'), TensorSpec(shape=(3350, 200), dtype=tf.float32, name='dense_8_target_30')]\n",
            "INFO:tensorflow:Overriding default placeholder.\n",
            "INFO:tensorflow:Remapping placeholder for main_input\n",
            "INFO:tensorflow:Remapping placeholder for photo_input\n",
            "INFO:tensorflow:Started compiling\n",
            "INFO:tensorflow:Finished compiling. Time elapsed: 5.705808401107788 secs\n",
            "INFO:tensorflow:Setting weights on TPU model.\n",
            " 99/100 [============================>.] - ETA: 2s - loss: -23.4916 - root_mean_squared_logarithmic_error: -23.4916 - mean_squared_logarithmic_error: 0.0149 - mean_squared_error: 0.1255INFO:tensorflow:New input shapes; (re-)compiling: mode=eval (# of cores 8), [TensorSpec(shape=(670,), dtype=tf.int32, name='core_id_10'), TensorSpec(shape=(670, 19), dtype=tf.float32, name='main_input_10'), TensorSpec(shape=(670, 64, 64, 1), dtype=tf.float32, name='photo_input_10'), TensorSpec(shape=(670, 200), dtype=tf.float32, name='dense_8_target_30')]\n",
            "INFO:tensorflow:Overriding default placeholder.\n",
            "INFO:tensorflow:Remapping placeholder for main_input\n",
            "INFO:tensorflow:Remapping placeholder for photo_input\n",
            "INFO:tensorflow:Started compiling\n",
            "INFO:tensorflow:Finished compiling. Time elapsed: 1.5873420238494873 secs\n",
            "100/100 [==============================] - 221s 2s/step - loss: -23.4989 - root_mean_squared_logarithmic_error: -23.4989 - mean_squared_logarithmic_error: 0.0147 - mean_squared_error: 0.1243 - val_loss: -24.3511 - val_root_mean_squared_logarithmic_error: -24.3511 - val_mean_squared_logarithmic_error: 0.0024 - val_mean_squared_error: 0.0078\n",
            "Epoch 2/5\n",
            "100/100 [==============================] - 209s 2s/step - loss: -24.2201 - root_mean_squared_logarithmic_error: -24.2201 - mean_squared_logarithmic_error: 0.0024 - mean_squared_error: 0.0080 - val_loss: -24.3511 - val_root_mean_squared_logarithmic_error: -24.3511 - val_mean_squared_logarithmic_error: 0.0024 - val_mean_squared_error: 0.0078\n",
            "Epoch 3/5\n",
            "100/100 [==============================] - 209s 2s/step - loss: -24.2201 - root_mean_squared_logarithmic_error: -24.2201 - mean_squared_logarithmic_error: 0.0024 - mean_squared_error: 0.0080 - val_loss: -24.3511 - val_root_mean_squared_logarithmic_error: -24.3511 - val_mean_squared_logarithmic_error: 0.0024 - val_mean_squared_error: 0.0078\n",
            "Epoch 4/5\n",
            "100/100 [==============================] - 207s 2s/step - loss: -24.2201 - root_mean_squared_logarithmic_error: -24.2201 - mean_squared_logarithmic_error: 0.0024 - mean_squared_error: 0.0080 - val_loss: -24.3511 - val_root_mean_squared_logarithmic_error: -24.3511 - val_mean_squared_logarithmic_error: 0.0024 - val_mean_squared_error: 0.0078\n",
            "Epoch 5/5\n",
            "100/100 [==============================] - 208s 2s/step - loss: -24.2201 - root_mean_squared_logarithmic_error: -24.2201 - mean_squared_logarithmic_error: 0.0024 - mean_squared_error: 0.0080 - val_loss: -24.3511 - val_root_mean_squared_logarithmic_error: -24.3511 - val_mean_squared_logarithmic_error: 0.0024 - val_mean_squared_error: 0.0078\n"
          ],
          "name": "stdout"
        }
      ]
    },
    {
      "metadata": {
        "id": "B3Q3CL04wL8i",
        "colab_type": "code",
        "colab": {
          "base_uri": "https://localhost:8080/",
          "height": 364
        },
        "outputId": "cac7090e-d54f-43b2-d92c-3e32b3f0b940"
      },
      "cell_type": "code",
      "source": [
        "plt.plot(history.history['mean_squared_error'])"
      ],
      "execution_count": 47,
      "outputs": [
        {
          "output_type": "execute_result",
          "data": {
            "text/plain": [
              "[<matplotlib.lines.Line2D at 0x7fc808d9a390>]"
            ]
          },
          "metadata": {
            "tags": []
          },
          "execution_count": 47
        },
        {
          "output_type": "display_data",
          "data": {
            "image/png": "[encoded data removed]",
            "text/plain": [
              "<matplotlib.figure.Figure at 0x7fc808e1f4a8>"
            ]
          },
          "metadata": {
            "tags": []
          }
        }
      ]
    },
    {
      "metadata": {
        "id": "uqBqwFkeSd7m",
        "colab_type": "code",
        "colab": {
          "base_uri": "https://localhost:8080/",
          "height": 364
        },
        "outputId": "47121481-d77d-403f-98d4-b11d8b12d191"
      },
      "cell_type": "code",
      "source": [
        "plt.plot(history.history['root_mean_squared_logarithmic_error'])"
      ],
      "execution_count": 48,
      "outputs": [
        {
          "output_type": "execute_result",
          "data": {
            "text/plain": [
              "[<matplotlib.lines.Line2D at 0x7fc808d7f828>]"
            ]
          },
          "metadata": {
            "tags": []
          },
          "execution_count": 48
        },
        {
          "output_type": "display_data",
          "data": {
            "image/png": "[encoded data removed]",
            "text/plain": [
              "<matplotlib.figure.Figure at 0x7fc808e06828>"
            ]
          },
          "metadata": {
            "tags": []
          }
        }
      ]
    },
    {
      "metadata": {
        "id": "r6Xfh0Tpq8B8",
        "colab_type": "code",
        "colab": {
          "base_uri": "https://localhost:8080/",
          "height": 102
        },
        "outputId": "c548a961-664e-4d59-ad7e-ce16acab93f2"
      },
      "cell_type": "code",
      "source": [
        "tpu_model.evaluate([X_test,image_test], y_test,\n",
        "    steps = 50, verbose=1)\n"
      ],
      "execution_count": 53,
      "outputs": [
        {
          "output_type": "stream",
          "text": [
            "50/50 [==============================] - 47s 932ms/step\n"
          ],
          "name": "stdout"
        },
        {
          "output_type": "execute_result",
          "data": {
            "text/plain": [
              "[-24.285295486450195,\n",
              " -24.285295486450195,\n",
              " 0.0024178666062653065,\n",
              " 0.007870934903621674]"
            ]
          },
          "metadata": {
            "tags": []
          },
          "execution_count": 53
        }
      ]
    },
    {
      "metadata": {
        "id": "sL914PI2aYaw",
        "colab_type": "code",
        "colab": {}
      },
      "cell_type": "code",
      "source": [
        "tpu_model.save_weights('./hrtf_tpu.h5', overwrite=True)"
      ],
      "execution_count": 0,
      "outputs": []
    },
    {
      "metadata": {
        "id": "CzHBQ_HjWwx3",
        "colab_type": "text"
      },
      "cell_type": "markdown",
      "source": [
        "## Predict"
      ]
    },
    {
      "metadata": {
        "id": "lqQXN0lzWyoF",
        "colab_type": "code",
        "colab": {
          "base_uri": "https://localhost:8080/",
          "height": 68
        },
        "outputId": "953f4d24-4abe-42a3-cd0a-f9858c865dbe"
      },
      "cell_type": "code",
      "source": [
        "!ls"
      ],
      "execution_count": 56,
      "outputs": [
        {
          "output_type": "stream",
          "text": [
            "AnthropomorphicFeatures.ipynb  ear.zip\t   README.md\t     utils\n",
            "binural-updates\t\t       LICENSE\t   requirements.txt\n",
            "data\t\t\t       pinnas.zip  sofacoustics.org\n"
          ],
          "name": "stdout"
        }
      ]
    },
    {
      "metadata": {
        "id": "Fpz6wVqeXq4_",
        "colab_type": "code",
        "colab": {}
      },
      "cell_type": "code",
      "source": [
        "#Enter 17 Measurements Here\n",
        "anthro = np.array([])\n",
        "\n",
        "canny_image = np.array([np.expand_dims(get_canny_image(plt.imread('ear_image.jpg')), axis=2)])"
      ],
      "execution_count": 0,
      "outputs": []
    },
    {
      "metadata": {
        "id": "K1yRKfwyW9T8",
        "colab_type": "code",
        "colab": {}
      },
      "cell_type": "code",
      "source": [
        "tpu_model = load_weights('hrtf_tpu.h5')\n",
        "cpu_model = tpu_model.sync_to_cpu()\n",
        "final_impulses = []\n",
        "for i in hrtf.elevation:\n",
        "    for j in hrtf.azimuths:\n",
        "        final_impulses.append(cpu_model.predict([np.hstack(anthro, i, j), canny_image])[0])"
      ],
      "execution_count": 0,
      "outputs": []
    },
    {
      "metadata": {
        "id": "C1Bii1ebYO9W",
        "colab_type": "code",
        "colab": {}
      },
      "cell_type": "code",
      "source": [
        "elevations, azimuths = interauralPolarToVerticalPolarCoordinates(hrtf.elevations, hrtf.azimuths)\n",
        "create_cipic_hrtf('data/template.sofa', 'data/predict.sofa', final_impulses, hrtf.elevations, hrtf.azimuths)"
      ],
      "execution_count": 0,
      "outputs": []
    },
    {
      "metadata": {
        "id": "M2pob-NoY9yK",
        "colab_type": "code",
        "colab": {}
      },
      "cell_type": "code",
      "source": [
        "from google.colab import files\n",
        "files.download('data/predict.sofa')"
      ],
      "execution_count": 0,
      "outputs": []
    }
  ]
}